{
 "cells": [
  {
   "cell_type": "code",
   "execution_count": 57,
   "id": "229fe355",
   "metadata": {},
   "outputs": [],
   "source": [
    "import pandas as pd"
   ]
  },
  {
   "cell_type": "markdown",
   "id": "d00150d8",
   "metadata": {},
   "source": [
    "###### Creating Series with default Index"
   ]
  },
  {
   "cell_type": "code",
   "execution_count": 58,
   "id": "338c0075",
   "metadata": {},
   "outputs": [],
   "source": [
    "grades = pd.Series([95,98,91,93,100])"
   ]
  },
  {
   "cell_type": "code",
   "execution_count": 59,
   "id": "fc7fe78c",
   "metadata": {},
   "outputs": [
    {
     "data": {
      "text/plain": [
       "0     95\n",
       "1     98\n",
       "2     91\n",
       "3     93\n",
       "4    100\n",
       "dtype: int64"
      ]
     },
     "execution_count": 59,
     "metadata": {},
     "output_type": "execute_result"
    }
   ],
   "source": [
    "grades"
   ]
  },
  {
   "cell_type": "code",
   "execution_count": 60,
   "id": "e356070d",
   "metadata": {},
   "outputs": [
    {
     "data": {
      "text/plain": [
       "0    98.5\n",
       "1    98.5\n",
       "2    98.5\n",
       "3    98.5\n",
       "dtype: float64"
      ]
     },
     "execution_count": 60,
     "metadata": {},
     "output_type": "execute_result"
    }
   ],
   "source": [
    "pd.Series(98.5,range(4)) #creating series with all same elements"
   ]
  },
  {
   "cell_type": "code",
   "execution_count": 61,
   "id": "f347029e",
   "metadata": {},
   "outputs": [
    {
     "data": {
      "text/plain": [
       "95"
      ]
     },
     "execution_count": 61,
     "metadata": {},
     "output_type": "execute_result"
    }
   ],
   "source": [
    "grades[0]"
   ]
  },
  {
   "cell_type": "code",
   "execution_count": 62,
   "id": "69772c21",
   "metadata": {},
   "outputs": [
    {
     "data": {
      "text/plain": [
       "5"
      ]
     },
     "execution_count": 62,
     "metadata": {},
     "output_type": "execute_result"
    }
   ],
   "source": [
    "grades.count()"
   ]
  },
  {
   "cell_type": "code",
   "execution_count": 63,
   "id": "46c5bacf",
   "metadata": {},
   "outputs": [
    {
     "data": {
      "text/plain": [
       "91"
      ]
     },
     "execution_count": 63,
     "metadata": {},
     "output_type": "execute_result"
    }
   ],
   "source": [
    "grades.min()"
   ]
  },
  {
   "cell_type": "code",
   "execution_count": 64,
   "id": "0ee55e8a",
   "metadata": {},
   "outputs": [
    {
     "data": {
      "text/plain": [
       "100"
      ]
     },
     "execution_count": 64,
     "metadata": {},
     "output_type": "execute_result"
    }
   ],
   "source": [
    "grades.max()"
   ]
  },
  {
   "cell_type": "code",
   "execution_count": 65,
   "id": "cc9c20ef",
   "metadata": {},
   "outputs": [
    {
     "data": {
      "text/plain": [
       "95.4"
      ]
     },
     "execution_count": 65,
     "metadata": {},
     "output_type": "execute_result"
    }
   ],
   "source": [
    "grades.mean()"
   ]
  },
  {
   "cell_type": "code",
   "execution_count": 66,
   "id": "ca5e8f02",
   "metadata": {},
   "outputs": [
    {
     "data": {
      "text/plain": [
       "3.6469165057620936"
      ]
     },
     "execution_count": 66,
     "metadata": {},
     "output_type": "execute_result"
    }
   ],
   "source": [
    "grades.std()"
   ]
  },
  {
   "cell_type": "code",
   "execution_count": 67,
   "id": "cd91a830",
   "metadata": {},
   "outputs": [
    {
     "data": {
      "text/plain": [
       "count      5.00\n",
       "mean      95.40\n",
       "std        3.65\n",
       "min       91.00\n",
       "25%       93.00\n",
       "50%       95.00\n",
       "75%       98.00\n",
       "max      100.00\n",
       "dtype: float64"
      ]
     },
     "execution_count": 67,
     "metadata": {},
     "output_type": "execute_result"
    }
   ],
   "source": [
    "grades.describe()"
   ]
  },
  {
   "cell_type": "code",
   "execution_count": 68,
   "id": "fdf699a2",
   "metadata": {},
   "outputs": [
    {
     "data": {
      "text/plain": [
       "A     87\n",
       "B    100\n",
       "C     94\n",
       "dtype: int64"
      ]
     },
     "execution_count": 68,
     "metadata": {},
     "output_type": "execute_result"
    }
   ],
   "source": [
    "marks = pd.Series([87,100,94],index=['A','B','C'])  #series with custom indexes\n",
    "marks"
   ]
  },
  {
   "cell_type": "code",
   "execution_count": 69,
   "id": "3ce498ec",
   "metadata": {},
   "outputs": [
    {
     "data": {
      "text/plain": [
       "Raju     89\n",
       "King     99\n",
       "Roger    98\n",
       "dtype: int64"
      ]
     },
     "execution_count": 69,
     "metadata": {},
     "output_type": "execute_result"
    }
   ],
   "source": [
    "scores = pd.Series({'Raju':89,'King':99,'Roger':98})\n",
    "scores"
   ]
  },
  {
   "cell_type": "code",
   "execution_count": 70,
   "id": "74b1b349",
   "metadata": {},
   "outputs": [
    {
     "data": {
      "text/plain": [
       "99"
      ]
     },
     "execution_count": 70,
     "metadata": {},
     "output_type": "execute_result"
    }
   ],
   "source": [
    "scores['King']"
   ]
  },
  {
   "cell_type": "code",
   "execution_count": 71,
   "id": "944acda1",
   "metadata": {},
   "outputs": [
    {
     "data": {
      "text/plain": [
       "98"
      ]
     },
     "execution_count": 71,
     "metadata": {},
     "output_type": "execute_result"
    }
   ],
   "source": [
    "scores.Roger"
   ]
  },
  {
   "cell_type": "code",
   "execution_count": 72,
   "id": "3d1401bd",
   "metadata": {},
   "outputs": [
    {
     "data": {
      "text/plain": [
       "array([89, 99, 98], dtype=int64)"
      ]
     },
     "execution_count": 72,
     "metadata": {},
     "output_type": "execute_result"
    }
   ],
   "source": [
    "scores.values"
   ]
  },
  {
   "cell_type": "markdown",
   "id": "a09d4bad",
   "metadata": {},
   "source": [
    "###### Creating Series of  Strings"
   ]
  },
  {
   "cell_type": "code",
   "execution_count": 73,
   "id": "05e8800c",
   "metadata": {},
   "outputs": [
    {
     "data": {
      "text/plain": [
       "0    Bengaluru\n",
       "1       Mumbai\n",
       "2      Chennai\n",
       "dtype: object"
      ]
     },
     "execution_count": 73,
     "metadata": {},
     "output_type": "execute_result"
    }
   ],
   "source": [
    "names = pd.Series(['Bengaluru','Mumbai','Chennai'])\n",
    "names"
   ]
  },
  {
   "cell_type": "code",
   "execution_count": 74,
   "id": "e03b002a",
   "metadata": {},
   "outputs": [
    {
     "data": {
      "text/plain": [
       "0    False\n",
       "1    False\n",
       "2     True\n",
       "dtype: bool"
      ]
     },
     "execution_count": 74,
     "metadata": {},
     "output_type": "execute_result"
    }
   ],
   "source": [
    "names.str.contains('C')"
   ]
  },
  {
   "cell_type": "code",
   "execution_count": 75,
   "id": "e143a631",
   "metadata": {},
   "outputs": [
    {
     "data": {
      "text/plain": [
       "0    BENGALURU\n",
       "1       MUMBAI\n",
       "2      CHENNAI\n",
       "dtype: object"
      ]
     },
     "execution_count": 75,
     "metadata": {},
     "output_type": "execute_result"
    }
   ],
   "source": [
    "names.str.upper()"
   ]
  },
  {
   "cell_type": "markdown",
   "id": "8525c3e2",
   "metadata": {},
   "source": [
    "###### DataFrames"
   ]
  },
  {
   "cell_type": "code",
   "execution_count": 76,
   "id": "244521d0",
   "metadata": {},
   "outputs": [
    {
     "data": {
      "text/html": [
       "<div>\n",
       "<style scoped>\n",
       "    .dataframe tbody tr th:only-of-type {\n",
       "        vertical-align: middle;\n",
       "    }\n",
       "\n",
       "    .dataframe tbody tr th {\n",
       "        vertical-align: top;\n",
       "    }\n",
       "\n",
       "    .dataframe thead th {\n",
       "        text-align: right;\n",
       "    }\n",
       "</style>\n",
       "<table border=\"1\" class=\"dataframe\">\n",
       "  <thead>\n",
       "    <tr style=\"text-align: right;\">\n",
       "      <th></th>\n",
       "      <th>Ram</th>\n",
       "      <th>Bhim</th>\n",
       "      <th>Krish</th>\n",
       "      <th>Ravi</th>\n",
       "      <th>Sanju</th>\n",
       "    </tr>\n",
       "  </thead>\n",
       "  <tbody>\n",
       "    <tr>\n",
       "      <th>0</th>\n",
       "      <td>87</td>\n",
       "      <td>87</td>\n",
       "      <td>100</td>\n",
       "      <td>88</td>\n",
       "      <td>89</td>\n",
       "    </tr>\n",
       "    <tr>\n",
       "      <th>1</th>\n",
       "      <td>96</td>\n",
       "      <td>85</td>\n",
       "      <td>100</td>\n",
       "      <td>89</td>\n",
       "      <td>81</td>\n",
       "    </tr>\n",
       "    <tr>\n",
       "      <th>2</th>\n",
       "      <td>95</td>\n",
       "      <td>84</td>\n",
       "      <td>99</td>\n",
       "      <td>86</td>\n",
       "      <td>93</td>\n",
       "    </tr>\n",
       "  </tbody>\n",
       "</table>\n",
       "</div>"
      ],
      "text/plain": [
       "   Ram  Bhim  Krish  Ravi  Sanju\n",
       "0   87    87    100    88     89\n",
       "1   96    85    100    89     81\n",
       "2   95    84     99    86     93"
      ]
     },
     "execution_count": 76,
     "metadata": {},
     "output_type": "execute_result"
    }
   ],
   "source": [
    "grades_dict = {'Ram':[87,96,95],'Bhim':[87,85,84],'Krish':[100,100,99],'Ravi':[88,89,86],'Sanju':[89,81,93]}\n",
    "grades_df = pd.DataFrame(grades_dict)\n",
    "grades_df"
   ]
  },
  {
   "cell_type": "code",
   "execution_count": 77,
   "id": "3d5ceccd",
   "metadata": {},
   "outputs": [
    {
     "data": {
      "text/html": [
       "<div>\n",
       "<style scoped>\n",
       "    .dataframe tbody tr th:only-of-type {\n",
       "        vertical-align: middle;\n",
       "    }\n",
       "\n",
       "    .dataframe tbody tr th {\n",
       "        vertical-align: top;\n",
       "    }\n",
       "\n",
       "    .dataframe thead th {\n",
       "        text-align: right;\n",
       "    }\n",
       "</style>\n",
       "<table border=\"1\" class=\"dataframe\">\n",
       "  <thead>\n",
       "    <tr style=\"text-align: right;\">\n",
       "      <th></th>\n",
       "      <th>Ram</th>\n",
       "      <th>Bhim</th>\n",
       "      <th>Krish</th>\n",
       "      <th>Ravi</th>\n",
       "      <th>Sanju</th>\n",
       "    </tr>\n",
       "  </thead>\n",
       "  <tbody>\n",
       "    <tr>\n",
       "      <th>Phy</th>\n",
       "      <td>87</td>\n",
       "      <td>87</td>\n",
       "      <td>100</td>\n",
       "      <td>88</td>\n",
       "      <td>89</td>\n",
       "    </tr>\n",
       "    <tr>\n",
       "      <th>Maths</th>\n",
       "      <td>96</td>\n",
       "      <td>85</td>\n",
       "      <td>100</td>\n",
       "      <td>89</td>\n",
       "      <td>81</td>\n",
       "    </tr>\n",
       "    <tr>\n",
       "      <th>Chem</th>\n",
       "      <td>95</td>\n",
       "      <td>84</td>\n",
       "      <td>99</td>\n",
       "      <td>86</td>\n",
       "      <td>93</td>\n",
       "    </tr>\n",
       "  </tbody>\n",
       "</table>\n",
       "</div>"
      ],
      "text/plain": [
       "       Ram  Bhim  Krish  Ravi  Sanju\n",
       "Phy     87    87    100    88     89\n",
       "Maths   96    85    100    89     81\n",
       "Chem    95    84     99    86     93"
      ]
     },
     "execution_count": 77,
     "metadata": {},
     "output_type": "execute_result"
    }
   ],
   "source": [
    "grades_df.index=['Phy','Maths','Chem']\n",
    "grades_df"
   ]
  },
  {
   "cell_type": "code",
   "execution_count": 78,
   "id": "8040e1e2",
   "metadata": {},
   "outputs": [
    {
     "data": {
      "text/plain": [
       "Phy      87\n",
       "Maths    96\n",
       "Chem     95\n",
       "Name: Ram, dtype: int64"
      ]
     },
     "execution_count": 78,
     "metadata": {},
     "output_type": "execute_result"
    }
   ],
   "source": [
    "grades_df['Ram']"
   ]
  },
  {
   "cell_type": "code",
   "execution_count": 79,
   "id": "9b65eb04",
   "metadata": {},
   "outputs": [
    {
     "data": {
      "text/plain": [
       "Phy      100\n",
       "Maths    100\n",
       "Chem      99\n",
       "Name: Krish, dtype: int64"
      ]
     },
     "execution_count": 79,
     "metadata": {},
     "output_type": "execute_result"
    }
   ],
   "source": [
    "grades_df.Krish"
   ]
  },
  {
   "cell_type": "code",
   "execution_count": 80,
   "id": "4133d6e8",
   "metadata": {},
   "outputs": [
    {
     "data": {
      "text/plain": [
       "Ram       87\n",
       "Bhim      87\n",
       "Krish    100\n",
       "Ravi      88\n",
       "Sanju     89\n",
       "Name: Phy, dtype: int64"
      ]
     },
     "execution_count": 80,
     "metadata": {},
     "output_type": "execute_result"
    }
   ],
   "source": [
    "grades_df.loc['Phy']"
   ]
  },
  {
   "cell_type": "code",
   "execution_count": 81,
   "id": "e9d165ae",
   "metadata": {},
   "outputs": [
    {
     "data": {
      "text/plain": [
       "Ram       96\n",
       "Bhim      85\n",
       "Krish    100\n",
       "Ravi      89\n",
       "Sanju     81\n",
       "Name: Maths, dtype: int64"
      ]
     },
     "execution_count": 81,
     "metadata": {},
     "output_type": "execute_result"
    }
   ],
   "source": [
    "grades_df.iloc[1]"
   ]
  },
  {
   "cell_type": "code",
   "execution_count": 82,
   "id": "c442f543",
   "metadata": {},
   "outputs": [
    {
     "data": {
      "text/html": [
       "<div>\n",
       "<style scoped>\n",
       "    .dataframe tbody tr th:only-of-type {\n",
       "        vertical-align: middle;\n",
       "    }\n",
       "\n",
       "    .dataframe tbody tr th {\n",
       "        vertical-align: top;\n",
       "    }\n",
       "\n",
       "    .dataframe thead th {\n",
       "        text-align: right;\n",
       "    }\n",
       "</style>\n",
       "<table border=\"1\" class=\"dataframe\">\n",
       "  <thead>\n",
       "    <tr style=\"text-align: right;\">\n",
       "      <th></th>\n",
       "      <th>Ram</th>\n",
       "      <th>Bhim</th>\n",
       "      <th>Krish</th>\n",
       "      <th>Ravi</th>\n",
       "      <th>Sanju</th>\n",
       "    </tr>\n",
       "  </thead>\n",
       "  <tbody>\n",
       "    <tr>\n",
       "      <th>Maths</th>\n",
       "      <td>96</td>\n",
       "      <td>85</td>\n",
       "      <td>100</td>\n",
       "      <td>89</td>\n",
       "      <td>81</td>\n",
       "    </tr>\n",
       "    <tr>\n",
       "      <th>Chem</th>\n",
       "      <td>95</td>\n",
       "      <td>84</td>\n",
       "      <td>99</td>\n",
       "      <td>86</td>\n",
       "      <td>93</td>\n",
       "    </tr>\n",
       "  </tbody>\n",
       "</table>\n",
       "</div>"
      ],
      "text/plain": [
       "       Ram  Bhim  Krish  Ravi  Sanju\n",
       "Maths   96    85    100    89     81\n",
       "Chem    95    84     99    86     93"
      ]
     },
     "execution_count": 82,
     "metadata": {},
     "output_type": "execute_result"
    }
   ],
   "source": [
    "grades_df.loc['Maths':'Chem']"
   ]
  },
  {
   "cell_type": "code",
   "execution_count": 83,
   "id": "00f13ba3",
   "metadata": {},
   "outputs": [
    {
     "data": {
      "text/html": [
       "<div>\n",
       "<style scoped>\n",
       "    .dataframe tbody tr th:only-of-type {\n",
       "        vertical-align: middle;\n",
       "    }\n",
       "\n",
       "    .dataframe tbody tr th {\n",
       "        vertical-align: top;\n",
       "    }\n",
       "\n",
       "    .dataframe thead th {\n",
       "        text-align: right;\n",
       "    }\n",
       "</style>\n",
       "<table border=\"1\" class=\"dataframe\">\n",
       "  <thead>\n",
       "    <tr style=\"text-align: right;\">\n",
       "      <th></th>\n",
       "      <th>Ram</th>\n",
       "      <th>Bhim</th>\n",
       "      <th>Krish</th>\n",
       "      <th>Ravi</th>\n",
       "      <th>Sanju</th>\n",
       "    </tr>\n",
       "  </thead>\n",
       "  <tbody>\n",
       "    <tr>\n",
       "      <th>Phy</th>\n",
       "      <td>87</td>\n",
       "      <td>87</td>\n",
       "      <td>100</td>\n",
       "      <td>88</td>\n",
       "      <td>89</td>\n",
       "    </tr>\n",
       "    <tr>\n",
       "      <th>Maths</th>\n",
       "      <td>96</td>\n",
       "      <td>85</td>\n",
       "      <td>100</td>\n",
       "      <td>89</td>\n",
       "      <td>81</td>\n",
       "    </tr>\n",
       "  </tbody>\n",
       "</table>\n",
       "</div>"
      ],
      "text/plain": [
       "       Ram  Bhim  Krish  Ravi  Sanju\n",
       "Phy     87    87    100    88     89\n",
       "Maths   96    85    100    89     81"
      ]
     },
     "execution_count": 83,
     "metadata": {},
     "output_type": "execute_result"
    }
   ],
   "source": [
    "grades_df.iloc[0:2]"
   ]
  },
  {
   "cell_type": "code",
   "execution_count": 84,
   "id": "1abed689",
   "metadata": {},
   "outputs": [
    {
     "data": {
      "text/html": [
       "<div>\n",
       "<style scoped>\n",
       "    .dataframe tbody tr th:only-of-type {\n",
       "        vertical-align: middle;\n",
       "    }\n",
       "\n",
       "    .dataframe tbody tr th {\n",
       "        vertical-align: top;\n",
       "    }\n",
       "\n",
       "    .dataframe thead th {\n",
       "        text-align: right;\n",
       "    }\n",
       "</style>\n",
       "<table border=\"1\" class=\"dataframe\">\n",
       "  <thead>\n",
       "    <tr style=\"text-align: right;\">\n",
       "      <th></th>\n",
       "      <th>Ram</th>\n",
       "      <th>Bhim</th>\n",
       "      <th>Krish</th>\n",
       "      <th>Ravi</th>\n",
       "      <th>Sanju</th>\n",
       "    </tr>\n",
       "  </thead>\n",
       "  <tbody>\n",
       "    <tr>\n",
       "      <th>Phy</th>\n",
       "      <td>87</td>\n",
       "      <td>87</td>\n",
       "      <td>100</td>\n",
       "      <td>88</td>\n",
       "      <td>89</td>\n",
       "    </tr>\n",
       "    <tr>\n",
       "      <th>Chem</th>\n",
       "      <td>95</td>\n",
       "      <td>84</td>\n",
       "      <td>99</td>\n",
       "      <td>86</td>\n",
       "      <td>93</td>\n",
       "    </tr>\n",
       "  </tbody>\n",
       "</table>\n",
       "</div>"
      ],
      "text/plain": [
       "      Ram  Bhim  Krish  Ravi  Sanju\n",
       "Phy    87    87    100    88     89\n",
       "Chem   95    84     99    86     93"
      ]
     },
     "execution_count": 84,
     "metadata": {},
     "output_type": "execute_result"
    }
   ],
   "source": [
    "grades_df.loc[['Phy','Chem']]"
   ]
  },
  {
   "cell_type": "code",
   "execution_count": 85,
   "id": "f088d93c",
   "metadata": {},
   "outputs": [
    {
     "data": {
      "text/html": [
       "<div>\n",
       "<style scoped>\n",
       "    .dataframe tbody tr th:only-of-type {\n",
       "        vertical-align: middle;\n",
       "    }\n",
       "\n",
       "    .dataframe tbody tr th {\n",
       "        vertical-align: top;\n",
       "    }\n",
       "\n",
       "    .dataframe thead th {\n",
       "        text-align: right;\n",
       "    }\n",
       "</style>\n",
       "<table border=\"1\" class=\"dataframe\">\n",
       "  <thead>\n",
       "    <tr style=\"text-align: right;\">\n",
       "      <th></th>\n",
       "      <th>Ram</th>\n",
       "      <th>Krish</th>\n",
       "    </tr>\n",
       "  </thead>\n",
       "  <tbody>\n",
       "    <tr>\n",
       "      <th>Phy</th>\n",
       "      <td>87</td>\n",
       "      <td>100</td>\n",
       "    </tr>\n",
       "    <tr>\n",
       "      <th>Maths</th>\n",
       "      <td>96</td>\n",
       "      <td>100</td>\n",
       "    </tr>\n",
       "    <tr>\n",
       "      <th>Chem</th>\n",
       "      <td>95</td>\n",
       "      <td>99</td>\n",
       "    </tr>\n",
       "  </tbody>\n",
       "</table>\n",
       "</div>"
      ],
      "text/plain": [
       "       Ram  Krish\n",
       "Phy     87    100\n",
       "Maths   96    100\n",
       "Chem    95     99"
      ]
     },
     "execution_count": 85,
     "metadata": {},
     "output_type": "execute_result"
    }
   ],
   "source": [
    "grades_df.loc['Phy':'Chem',['Ram','Krish']]"
   ]
  },
  {
   "cell_type": "code",
   "execution_count": 86,
   "id": "0956a077",
   "metadata": {},
   "outputs": [
    {
     "data": {
      "text/html": [
       "<div>\n",
       "<style scoped>\n",
       "    .dataframe tbody tr th:only-of-type {\n",
       "        vertical-align: middle;\n",
       "    }\n",
       "\n",
       "    .dataframe tbody tr th {\n",
       "        vertical-align: top;\n",
       "    }\n",
       "\n",
       "    .dataframe thead th {\n",
       "        text-align: right;\n",
       "    }\n",
       "</style>\n",
       "<table border=\"1\" class=\"dataframe\">\n",
       "  <thead>\n",
       "    <tr style=\"text-align: right;\">\n",
       "      <th></th>\n",
       "      <th>Ram</th>\n",
       "      <th>Bhim</th>\n",
       "      <th>Krish</th>\n",
       "    </tr>\n",
       "  </thead>\n",
       "  <tbody>\n",
       "    <tr>\n",
       "      <th>Phy</th>\n",
       "      <td>87</td>\n",
       "      <td>87</td>\n",
       "      <td>100</td>\n",
       "    </tr>\n",
       "    <tr>\n",
       "      <th>Chem</th>\n",
       "      <td>95</td>\n",
       "      <td>84</td>\n",
       "      <td>99</td>\n",
       "    </tr>\n",
       "  </tbody>\n",
       "</table>\n",
       "</div>"
      ],
      "text/plain": [
       "      Ram  Bhim  Krish\n",
       "Phy    87    87    100\n",
       "Chem   95    84     99"
      ]
     },
     "execution_count": 86,
     "metadata": {},
     "output_type": "execute_result"
    }
   ],
   "source": [
    "grades_df.iloc[[0,2],0:3]"
   ]
  },
  {
   "cell_type": "markdown",
   "id": "51ca563f",
   "metadata": {},
   "source": [
    "##### Boolean Indexing"
   ]
  },
  {
   "cell_type": "code",
   "execution_count": 87,
   "id": "be7efb2d",
   "metadata": {},
   "outputs": [
    {
     "data": {
      "text/html": [
       "<div>\n",
       "<style scoped>\n",
       "    .dataframe tbody tr th:only-of-type {\n",
       "        vertical-align: middle;\n",
       "    }\n",
       "\n",
       "    .dataframe tbody tr th {\n",
       "        vertical-align: top;\n",
       "    }\n",
       "\n",
       "    .dataframe thead th {\n",
       "        text-align: right;\n",
       "    }\n",
       "</style>\n",
       "<table border=\"1\" class=\"dataframe\">\n",
       "  <thead>\n",
       "    <tr style=\"text-align: right;\">\n",
       "      <th></th>\n",
       "      <th>Ram</th>\n",
       "      <th>Bhim</th>\n",
       "      <th>Krish</th>\n",
       "      <th>Ravi</th>\n",
       "      <th>Sanju</th>\n",
       "    </tr>\n",
       "  </thead>\n",
       "  <tbody>\n",
       "    <tr>\n",
       "      <th>Phy</th>\n",
       "      <td>87</td>\n",
       "      <td>87</td>\n",
       "      <td>100</td>\n",
       "      <td>88</td>\n",
       "      <td>89</td>\n",
       "    </tr>\n",
       "    <tr>\n",
       "      <th>Maths</th>\n",
       "      <td>96</td>\n",
       "      <td>85</td>\n",
       "      <td>100</td>\n",
       "      <td>89</td>\n",
       "      <td>81</td>\n",
       "    </tr>\n",
       "    <tr>\n",
       "      <th>Chem</th>\n",
       "      <td>95</td>\n",
       "      <td>84</td>\n",
       "      <td>99</td>\n",
       "      <td>86</td>\n",
       "      <td>93</td>\n",
       "    </tr>\n",
       "  </tbody>\n",
       "</table>\n",
       "</div>"
      ],
      "text/plain": [
       "       Ram  Bhim  Krish  Ravi  Sanju\n",
       "Phy     87    87    100    88     89\n",
       "Maths   96    85    100    89     81\n",
       "Chem    95    84     99    86     93"
      ]
     },
     "execution_count": 87,
     "metadata": {},
     "output_type": "execute_result"
    }
   ],
   "source": [
    "grades_df[grades_df >= 80]"
   ]
  },
  {
   "cell_type": "code",
   "execution_count": 88,
   "id": "f299433f",
   "metadata": {},
   "outputs": [
    {
     "data": {
      "text/html": [
       "<div>\n",
       "<style scoped>\n",
       "    .dataframe tbody tr th:only-of-type {\n",
       "        vertical-align: middle;\n",
       "    }\n",
       "\n",
       "    .dataframe tbody tr th {\n",
       "        vertical-align: top;\n",
       "    }\n",
       "\n",
       "    .dataframe thead th {\n",
       "        text-align: right;\n",
       "    }\n",
       "</style>\n",
       "<table border=\"1\" class=\"dataframe\">\n",
       "  <thead>\n",
       "    <tr style=\"text-align: right;\">\n",
       "      <th></th>\n",
       "      <th>Ram</th>\n",
       "      <th>Bhim</th>\n",
       "      <th>Krish</th>\n",
       "      <th>Ravi</th>\n",
       "      <th>Sanju</th>\n",
       "    </tr>\n",
       "  </thead>\n",
       "  <tbody>\n",
       "    <tr>\n",
       "      <th>Phy</th>\n",
       "      <td>87.0</td>\n",
       "      <td>87</td>\n",
       "      <td>NaN</td>\n",
       "      <td>88</td>\n",
       "      <td>89.0</td>\n",
       "    </tr>\n",
       "    <tr>\n",
       "      <th>Maths</th>\n",
       "      <td>NaN</td>\n",
       "      <td>85</td>\n",
       "      <td>NaN</td>\n",
       "      <td>89</td>\n",
       "      <td>81.0</td>\n",
       "    </tr>\n",
       "    <tr>\n",
       "      <th>Chem</th>\n",
       "      <td>NaN</td>\n",
       "      <td>84</td>\n",
       "      <td>NaN</td>\n",
       "      <td>86</td>\n",
       "      <td>NaN</td>\n",
       "    </tr>\n",
       "  </tbody>\n",
       "</table>\n",
       "</div>"
      ],
      "text/plain": [
       "        Ram  Bhim  Krish  Ravi  Sanju\n",
       "Phy    87.0    87    NaN    88   89.0\n",
       "Maths   NaN    85    NaN    89   81.0\n",
       "Chem    NaN    84    NaN    86    NaN"
      ]
     },
     "execution_count": 88,
     "metadata": {},
     "output_type": "execute_result"
    }
   ],
   "source": [
    "grades_df[(grades_df >=80) & (grades_df <= 90)]"
   ]
  },
  {
   "cell_type": "code",
   "execution_count": 89,
   "id": "f0ffe368",
   "metadata": {},
   "outputs": [
    {
     "data": {
      "text/plain": [
       "100"
      ]
     },
     "execution_count": 89,
     "metadata": {},
     "output_type": "execute_result"
    }
   ],
   "source": [
    "grades_df.at['Phy','Krish']"
   ]
  },
  {
   "cell_type": "code",
   "execution_count": 90,
   "id": "024566d6",
   "metadata": {},
   "outputs": [
    {
     "data": {
      "text/plain": [
       "100"
      ]
     },
     "execution_count": 90,
     "metadata": {},
     "output_type": "execute_result"
    }
   ],
   "source": [
    "grades_df.iat[1,2]"
   ]
  },
  {
   "cell_type": "code",
   "execution_count": 91,
   "id": "1081550a",
   "metadata": {},
   "outputs": [
    {
     "data": {
      "text/plain": [
       "100"
      ]
     },
     "execution_count": 91,
     "metadata": {},
     "output_type": "execute_result"
    }
   ],
   "source": [
    "grades_df.at['Chem','Krish']=100\n",
    "grades_df.at['Chem','Krish']"
   ]
  },
  {
   "cell_type": "code",
   "execution_count": 92,
   "id": "f633781e",
   "metadata": {},
   "outputs": [
    {
     "data": {
      "text/plain": [
       "100"
      ]
     },
     "execution_count": 92,
     "metadata": {},
     "output_type": "execute_result"
    }
   ],
   "source": [
    "grades_df.iat[0,1]=100\n",
    "grades_df.iat[0,1]"
   ]
  },
  {
   "cell_type": "code",
   "execution_count": 93,
   "id": "5336bec4",
   "metadata": {},
   "outputs": [
    {
     "data": {
      "text/html": [
       "<div>\n",
       "<style scoped>\n",
       "    .dataframe tbody tr th:only-of-type {\n",
       "        vertical-align: middle;\n",
       "    }\n",
       "\n",
       "    .dataframe tbody tr th {\n",
       "        vertical-align: top;\n",
       "    }\n",
       "\n",
       "    .dataframe thead th {\n",
       "        text-align: right;\n",
       "    }\n",
       "</style>\n",
       "<table border=\"1\" class=\"dataframe\">\n",
       "  <thead>\n",
       "    <tr style=\"text-align: right;\">\n",
       "      <th></th>\n",
       "      <th>Ram</th>\n",
       "      <th>Bhim</th>\n",
       "      <th>Krish</th>\n",
       "      <th>Ravi</th>\n",
       "      <th>Sanju</th>\n",
       "    </tr>\n",
       "  </thead>\n",
       "  <tbody>\n",
       "    <tr>\n",
       "      <th>count</th>\n",
       "      <td>3.00</td>\n",
       "      <td>3.00</td>\n",
       "      <td>3.0</td>\n",
       "      <td>3.00</td>\n",
       "      <td>3.00</td>\n",
       "    </tr>\n",
       "    <tr>\n",
       "      <th>mean</th>\n",
       "      <td>92.67</td>\n",
       "      <td>89.67</td>\n",
       "      <td>100.0</td>\n",
       "      <td>87.67</td>\n",
       "      <td>87.67</td>\n",
       "    </tr>\n",
       "    <tr>\n",
       "      <th>std</th>\n",
       "      <td>4.93</td>\n",
       "      <td>8.96</td>\n",
       "      <td>0.0</td>\n",
       "      <td>1.53</td>\n",
       "      <td>6.11</td>\n",
       "    </tr>\n",
       "    <tr>\n",
       "      <th>min</th>\n",
       "      <td>87.00</td>\n",
       "      <td>84.00</td>\n",
       "      <td>100.0</td>\n",
       "      <td>86.00</td>\n",
       "      <td>81.00</td>\n",
       "    </tr>\n",
       "    <tr>\n",
       "      <th>25%</th>\n",
       "      <td>91.00</td>\n",
       "      <td>84.50</td>\n",
       "      <td>100.0</td>\n",
       "      <td>87.00</td>\n",
       "      <td>85.00</td>\n",
       "    </tr>\n",
       "    <tr>\n",
       "      <th>50%</th>\n",
       "      <td>95.00</td>\n",
       "      <td>85.00</td>\n",
       "      <td>100.0</td>\n",
       "      <td>88.00</td>\n",
       "      <td>89.00</td>\n",
       "    </tr>\n",
       "    <tr>\n",
       "      <th>75%</th>\n",
       "      <td>95.50</td>\n",
       "      <td>92.50</td>\n",
       "      <td>100.0</td>\n",
       "      <td>88.50</td>\n",
       "      <td>91.00</td>\n",
       "    </tr>\n",
       "    <tr>\n",
       "      <th>max</th>\n",
       "      <td>96.00</td>\n",
       "      <td>100.00</td>\n",
       "      <td>100.0</td>\n",
       "      <td>89.00</td>\n",
       "      <td>93.00</td>\n",
       "    </tr>\n",
       "  </tbody>\n",
       "</table>\n",
       "</div>"
      ],
      "text/plain": [
       "         Ram    Bhim  Krish   Ravi  Sanju\n",
       "count   3.00    3.00    3.0   3.00   3.00\n",
       "mean   92.67   89.67  100.0  87.67  87.67\n",
       "std     4.93    8.96    0.0   1.53   6.11\n",
       "min    87.00   84.00  100.0  86.00  81.00\n",
       "25%    91.00   84.50  100.0  87.00  85.00\n",
       "50%    95.00   85.00  100.0  88.00  89.00\n",
       "75%    95.50   92.50  100.0  88.50  91.00\n",
       "max    96.00  100.00  100.0  89.00  93.00"
      ]
     },
     "execution_count": 93,
     "metadata": {},
     "output_type": "execute_result"
    }
   ],
   "source": [
    "grades_df.describe()"
   ]
  },
  {
   "cell_type": "code",
   "execution_count": 94,
   "id": "07c162b5",
   "metadata": {},
   "outputs": [],
   "source": [
    "pd.set_option('display.precision',2)"
   ]
  },
  {
   "cell_type": "code",
   "execution_count": 95,
   "id": "8efdcfde",
   "metadata": {},
   "outputs": [
    {
     "data": {
      "text/html": [
       "<div>\n",
       "<style scoped>\n",
       "    .dataframe tbody tr th:only-of-type {\n",
       "        vertical-align: middle;\n",
       "    }\n",
       "\n",
       "    .dataframe tbody tr th {\n",
       "        vertical-align: top;\n",
       "    }\n",
       "\n",
       "    .dataframe thead th {\n",
       "        text-align: right;\n",
       "    }\n",
       "</style>\n",
       "<table border=\"1\" class=\"dataframe\">\n",
       "  <thead>\n",
       "    <tr style=\"text-align: right;\">\n",
       "      <th></th>\n",
       "      <th>Ram</th>\n",
       "      <th>Bhim</th>\n",
       "      <th>Krish</th>\n",
       "      <th>Ravi</th>\n",
       "      <th>Sanju</th>\n",
       "    </tr>\n",
       "  </thead>\n",
       "  <tbody>\n",
       "    <tr>\n",
       "      <th>count</th>\n",
       "      <td>3.00</td>\n",
       "      <td>3.00</td>\n",
       "      <td>3.0</td>\n",
       "      <td>3.00</td>\n",
       "      <td>3.00</td>\n",
       "    </tr>\n",
       "    <tr>\n",
       "      <th>mean</th>\n",
       "      <td>92.67</td>\n",
       "      <td>89.67</td>\n",
       "      <td>100.0</td>\n",
       "      <td>87.67</td>\n",
       "      <td>87.67</td>\n",
       "    </tr>\n",
       "    <tr>\n",
       "      <th>std</th>\n",
       "      <td>4.93</td>\n",
       "      <td>8.96</td>\n",
       "      <td>0.0</td>\n",
       "      <td>1.53</td>\n",
       "      <td>6.11</td>\n",
       "    </tr>\n",
       "    <tr>\n",
       "      <th>min</th>\n",
       "      <td>87.00</td>\n",
       "      <td>84.00</td>\n",
       "      <td>100.0</td>\n",
       "      <td>86.00</td>\n",
       "      <td>81.00</td>\n",
       "    </tr>\n",
       "    <tr>\n",
       "      <th>25%</th>\n",
       "      <td>91.00</td>\n",
       "      <td>84.50</td>\n",
       "      <td>100.0</td>\n",
       "      <td>87.00</td>\n",
       "      <td>85.00</td>\n",
       "    </tr>\n",
       "    <tr>\n",
       "      <th>50%</th>\n",
       "      <td>95.00</td>\n",
       "      <td>85.00</td>\n",
       "      <td>100.0</td>\n",
       "      <td>88.00</td>\n",
       "      <td>89.00</td>\n",
       "    </tr>\n",
       "    <tr>\n",
       "      <th>75%</th>\n",
       "      <td>95.50</td>\n",
       "      <td>92.50</td>\n",
       "      <td>100.0</td>\n",
       "      <td>88.50</td>\n",
       "      <td>91.00</td>\n",
       "    </tr>\n",
       "    <tr>\n",
       "      <th>max</th>\n",
       "      <td>96.00</td>\n",
       "      <td>100.00</td>\n",
       "      <td>100.0</td>\n",
       "      <td>89.00</td>\n",
       "      <td>93.00</td>\n",
       "    </tr>\n",
       "  </tbody>\n",
       "</table>\n",
       "</div>"
      ],
      "text/plain": [
       "         Ram    Bhim  Krish   Ravi  Sanju\n",
       "count   3.00    3.00    3.0   3.00   3.00\n",
       "mean   92.67   89.67  100.0  87.67  87.67\n",
       "std     4.93    8.96    0.0   1.53   6.11\n",
       "min    87.00   84.00  100.0  86.00  81.00\n",
       "25%    91.00   84.50  100.0  87.00  85.00\n",
       "50%    95.00   85.00  100.0  88.00  89.00\n",
       "75%    95.50   92.50  100.0  88.50  91.00\n",
       "max    96.00  100.00  100.0  89.00  93.00"
      ]
     },
     "execution_count": 95,
     "metadata": {},
     "output_type": "execute_result"
    }
   ],
   "source": [
    "grades_df.describe()"
   ]
  },
  {
   "cell_type": "code",
   "execution_count": 96,
   "id": "ca589b2a",
   "metadata": {},
   "outputs": [
    {
     "data": {
      "text/plain": [
       "Ram       92.67\n",
       "Bhim      89.67\n",
       "Krish    100.00\n",
       "Ravi      87.67\n",
       "Sanju     87.67\n",
       "dtype: float64"
      ]
     },
     "execution_count": 96,
     "metadata": {},
     "output_type": "execute_result"
    }
   ],
   "source": [
    "grades_df.mean()"
   ]
  },
  {
   "cell_type": "code",
   "execution_count": 97,
   "id": "23b0b756",
   "metadata": {},
   "outputs": [
    {
     "data": {
      "text/html": [
       "<div>\n",
       "<style scoped>\n",
       "    .dataframe tbody tr th:only-of-type {\n",
       "        vertical-align: middle;\n",
       "    }\n",
       "\n",
       "    .dataframe tbody tr th {\n",
       "        vertical-align: top;\n",
       "    }\n",
       "\n",
       "    .dataframe thead th {\n",
       "        text-align: right;\n",
       "    }\n",
       "</style>\n",
       "<table border=\"1\" class=\"dataframe\">\n",
       "  <thead>\n",
       "    <tr style=\"text-align: right;\">\n",
       "      <th></th>\n",
       "      <th>Phy</th>\n",
       "      <th>Maths</th>\n",
       "      <th>Chem</th>\n",
       "    </tr>\n",
       "  </thead>\n",
       "  <tbody>\n",
       "    <tr>\n",
       "      <th>Ram</th>\n",
       "      <td>87</td>\n",
       "      <td>96</td>\n",
       "      <td>95</td>\n",
       "    </tr>\n",
       "    <tr>\n",
       "      <th>Bhim</th>\n",
       "      <td>100</td>\n",
       "      <td>85</td>\n",
       "      <td>84</td>\n",
       "    </tr>\n",
       "    <tr>\n",
       "      <th>Krish</th>\n",
       "      <td>100</td>\n",
       "      <td>100</td>\n",
       "      <td>100</td>\n",
       "    </tr>\n",
       "    <tr>\n",
       "      <th>Ravi</th>\n",
       "      <td>88</td>\n",
       "      <td>89</td>\n",
       "      <td>86</td>\n",
       "    </tr>\n",
       "    <tr>\n",
       "      <th>Sanju</th>\n",
       "      <td>89</td>\n",
       "      <td>81</td>\n",
       "      <td>93</td>\n",
       "    </tr>\n",
       "  </tbody>\n",
       "</table>\n",
       "</div>"
      ],
      "text/plain": [
       "       Phy  Maths  Chem\n",
       "Ram     87     96    95\n",
       "Bhim   100     85    84\n",
       "Krish  100    100   100\n",
       "Ravi    88     89    86\n",
       "Sanju   89     81    93"
      ]
     },
     "execution_count": 97,
     "metadata": {},
     "output_type": "execute_result"
    }
   ],
   "source": [
    "grades_df.T"
   ]
  },
  {
   "cell_type": "code",
   "execution_count": 98,
   "id": "90b642b1",
   "metadata": {},
   "outputs": [
    {
     "data": {
      "text/plain": [
       "Phy      92.8\n",
       "Maths    90.2\n",
       "Chem     91.6\n",
       "dtype: float64"
      ]
     },
     "execution_count": 98,
     "metadata": {},
     "output_type": "execute_result"
    }
   ],
   "source": [
    "grades_df.T.mean()"
   ]
  },
  {
   "cell_type": "code",
   "execution_count": 99,
   "id": "a1cfcabc",
   "metadata": {},
   "outputs": [
    {
     "data": {
      "text/html": [
       "<div>\n",
       "<style scoped>\n",
       "    .dataframe tbody tr th:only-of-type {\n",
       "        vertical-align: middle;\n",
       "    }\n",
       "\n",
       "    .dataframe tbody tr th {\n",
       "        vertical-align: top;\n",
       "    }\n",
       "\n",
       "    .dataframe thead th {\n",
       "        text-align: right;\n",
       "    }\n",
       "</style>\n",
       "<table border=\"1\" class=\"dataframe\">\n",
       "  <thead>\n",
       "    <tr style=\"text-align: right;\">\n",
       "      <th></th>\n",
       "      <th>Phy</th>\n",
       "      <th>Maths</th>\n",
       "      <th>Chem</th>\n",
       "    </tr>\n",
       "  </thead>\n",
       "  <tbody>\n",
       "    <tr>\n",
       "      <th>count</th>\n",
       "      <td>5.00</td>\n",
       "      <td>5.00</td>\n",
       "      <td>5.00</td>\n",
       "    </tr>\n",
       "    <tr>\n",
       "      <th>mean</th>\n",
       "      <td>92.80</td>\n",
       "      <td>90.20</td>\n",
       "      <td>91.60</td>\n",
       "    </tr>\n",
       "    <tr>\n",
       "      <th>std</th>\n",
       "      <td>6.61</td>\n",
       "      <td>7.79</td>\n",
       "      <td>6.58</td>\n",
       "    </tr>\n",
       "    <tr>\n",
       "      <th>min</th>\n",
       "      <td>87.00</td>\n",
       "      <td>81.00</td>\n",
       "      <td>84.00</td>\n",
       "    </tr>\n",
       "    <tr>\n",
       "      <th>25%</th>\n",
       "      <td>88.00</td>\n",
       "      <td>85.00</td>\n",
       "      <td>86.00</td>\n",
       "    </tr>\n",
       "    <tr>\n",
       "      <th>50%</th>\n",
       "      <td>89.00</td>\n",
       "      <td>89.00</td>\n",
       "      <td>93.00</td>\n",
       "    </tr>\n",
       "    <tr>\n",
       "      <th>75%</th>\n",
       "      <td>100.00</td>\n",
       "      <td>96.00</td>\n",
       "      <td>95.00</td>\n",
       "    </tr>\n",
       "    <tr>\n",
       "      <th>max</th>\n",
       "      <td>100.00</td>\n",
       "      <td>100.00</td>\n",
       "      <td>100.00</td>\n",
       "    </tr>\n",
       "  </tbody>\n",
       "</table>\n",
       "</div>"
      ],
      "text/plain": [
       "          Phy   Maths    Chem\n",
       "count    5.00    5.00    5.00\n",
       "mean    92.80   90.20   91.60\n",
       "std      6.61    7.79    6.58\n",
       "min     87.00   81.00   84.00\n",
       "25%     88.00   85.00   86.00\n",
       "50%     89.00   89.00   93.00\n",
       "75%    100.00   96.00   95.00\n",
       "max    100.00  100.00  100.00"
      ]
     },
     "execution_count": 99,
     "metadata": {},
     "output_type": "execute_result"
    }
   ],
   "source": [
    "grades_df.T.describe()"
   ]
  },
  {
   "cell_type": "code",
   "execution_count": 100,
   "id": "1740ca78",
   "metadata": {},
   "outputs": [
    {
     "data": {
      "text/html": [
       "<div>\n",
       "<style scoped>\n",
       "    .dataframe tbody tr th:only-of-type {\n",
       "        vertical-align: middle;\n",
       "    }\n",
       "\n",
       "    .dataframe tbody tr th {\n",
       "        vertical-align: top;\n",
       "    }\n",
       "\n",
       "    .dataframe thead th {\n",
       "        text-align: right;\n",
       "    }\n",
       "</style>\n",
       "<table border=\"1\" class=\"dataframe\">\n",
       "  <thead>\n",
       "    <tr style=\"text-align: right;\">\n",
       "      <th></th>\n",
       "      <th>Ram</th>\n",
       "      <th>Bhim</th>\n",
       "      <th>Krish</th>\n",
       "      <th>Ravi</th>\n",
       "      <th>Sanju</th>\n",
       "    </tr>\n",
       "  </thead>\n",
       "  <tbody>\n",
       "    <tr>\n",
       "      <th>Phy</th>\n",
       "      <td>87</td>\n",
       "      <td>100</td>\n",
       "      <td>100</td>\n",
       "      <td>88</td>\n",
       "      <td>89</td>\n",
       "    </tr>\n",
       "    <tr>\n",
       "      <th>Maths</th>\n",
       "      <td>96</td>\n",
       "      <td>85</td>\n",
       "      <td>100</td>\n",
       "      <td>89</td>\n",
       "      <td>81</td>\n",
       "    </tr>\n",
       "    <tr>\n",
       "      <th>Chem</th>\n",
       "      <td>95</td>\n",
       "      <td>84</td>\n",
       "      <td>100</td>\n",
       "      <td>86</td>\n",
       "      <td>93</td>\n",
       "    </tr>\n",
       "  </tbody>\n",
       "</table>\n",
       "</div>"
      ],
      "text/plain": [
       "       Ram  Bhim  Krish  Ravi  Sanju\n",
       "Phy     87   100    100    88     89\n",
       "Maths   96    85    100    89     81\n",
       "Chem    95    84    100    86     93"
      ]
     },
     "execution_count": 100,
     "metadata": {},
     "output_type": "execute_result"
    }
   ],
   "source": [
    "grades_df.sort_index(ascending=False)"
   ]
  },
  {
   "cell_type": "code",
   "execution_count": 101,
   "id": "9a9b8489",
   "metadata": {},
   "outputs": [
    {
     "data": {
      "text/html": [
       "<div>\n",
       "<style scoped>\n",
       "    .dataframe tbody tr th:only-of-type {\n",
       "        vertical-align: middle;\n",
       "    }\n",
       "\n",
       "    .dataframe tbody tr th {\n",
       "        vertical-align: top;\n",
       "    }\n",
       "\n",
       "    .dataframe thead th {\n",
       "        text-align: right;\n",
       "    }\n",
       "</style>\n",
       "<table border=\"1\" class=\"dataframe\">\n",
       "  <thead>\n",
       "    <tr style=\"text-align: right;\">\n",
       "      <th></th>\n",
       "      <th>Ram</th>\n",
       "      <th>Bhim</th>\n",
       "      <th>Krish</th>\n",
       "      <th>Ravi</th>\n",
       "      <th>Sanju</th>\n",
       "    </tr>\n",
       "  </thead>\n",
       "  <tbody>\n",
       "    <tr>\n",
       "      <th>Chem</th>\n",
       "      <td>95</td>\n",
       "      <td>84</td>\n",
       "      <td>100</td>\n",
       "      <td>86</td>\n",
       "      <td>93</td>\n",
       "    </tr>\n",
       "    <tr>\n",
       "      <th>Maths</th>\n",
       "      <td>96</td>\n",
       "      <td>85</td>\n",
       "      <td>100</td>\n",
       "      <td>89</td>\n",
       "      <td>81</td>\n",
       "    </tr>\n",
       "    <tr>\n",
       "      <th>Phy</th>\n",
       "      <td>87</td>\n",
       "      <td>100</td>\n",
       "      <td>100</td>\n",
       "      <td>88</td>\n",
       "      <td>89</td>\n",
       "    </tr>\n",
       "  </tbody>\n",
       "</table>\n",
       "</div>"
      ],
      "text/plain": [
       "       Ram  Bhim  Krish  Ravi  Sanju\n",
       "Chem    95    84    100    86     93\n",
       "Maths   96    85    100    89     81\n",
       "Phy     87   100    100    88     89"
      ]
     },
     "execution_count": 101,
     "metadata": {},
     "output_type": "execute_result"
    }
   ],
   "source": [
    "grades_df.sort_index(axis=0)"
   ]
  },
  {
   "cell_type": "code",
   "execution_count": 102,
   "id": "0f27a639",
   "metadata": {},
   "outputs": [
    {
     "data": {
      "text/html": [
       "<div>\n",
       "<style scoped>\n",
       "    .dataframe tbody tr th:only-of-type {\n",
       "        vertical-align: middle;\n",
       "    }\n",
       "\n",
       "    .dataframe tbody tr th {\n",
       "        vertical-align: top;\n",
       "    }\n",
       "\n",
       "    .dataframe thead th {\n",
       "        text-align: right;\n",
       "    }\n",
       "</style>\n",
       "<table border=\"1\" class=\"dataframe\">\n",
       "  <thead>\n",
       "    <tr style=\"text-align: right;\">\n",
       "      <th></th>\n",
       "      <th>Bhim</th>\n",
       "      <th>Krish</th>\n",
       "      <th>Sanju</th>\n",
       "      <th>Ravi</th>\n",
       "      <th>Ram</th>\n",
       "    </tr>\n",
       "  </thead>\n",
       "  <tbody>\n",
       "    <tr>\n",
       "      <th>Phy</th>\n",
       "      <td>100</td>\n",
       "      <td>100</td>\n",
       "      <td>89</td>\n",
       "      <td>88</td>\n",
       "      <td>87</td>\n",
       "    </tr>\n",
       "    <tr>\n",
       "      <th>Maths</th>\n",
       "      <td>85</td>\n",
       "      <td>100</td>\n",
       "      <td>81</td>\n",
       "      <td>89</td>\n",
       "      <td>96</td>\n",
       "    </tr>\n",
       "    <tr>\n",
       "      <th>Chem</th>\n",
       "      <td>84</td>\n",
       "      <td>100</td>\n",
       "      <td>93</td>\n",
       "      <td>86</td>\n",
       "      <td>95</td>\n",
       "    </tr>\n",
       "  </tbody>\n",
       "</table>\n",
       "</div>"
      ],
      "text/plain": [
       "       Bhim  Krish  Sanju  Ravi  Ram\n",
       "Phy     100    100     89    88   87\n",
       "Maths    85    100     81    89   96\n",
       "Chem     84    100     93    86   95"
      ]
     },
     "execution_count": 102,
     "metadata": {},
     "output_type": "execute_result"
    }
   ],
   "source": [
    "grades_df.sort_values(by='Phy',axis=1,ascending=False)"
   ]
  },
  {
   "cell_type": "code",
   "execution_count": 103,
   "id": "2c296771",
   "metadata": {},
   "outputs": [
    {
     "data": {
      "text/html": [
       "<div>\n",
       "<style scoped>\n",
       "    .dataframe tbody tr th:only-of-type {\n",
       "        vertical-align: middle;\n",
       "    }\n",
       "\n",
       "    .dataframe tbody tr th {\n",
       "        vertical-align: top;\n",
       "    }\n",
       "\n",
       "    .dataframe thead th {\n",
       "        text-align: right;\n",
       "    }\n",
       "</style>\n",
       "<table border=\"1\" class=\"dataframe\">\n",
       "  <thead>\n",
       "    <tr style=\"text-align: right;\">\n",
       "      <th></th>\n",
       "      <th>Phy</th>\n",
       "      <th>Maths</th>\n",
       "      <th>Chem</th>\n",
       "    </tr>\n",
       "  </thead>\n",
       "  <tbody>\n",
       "    <tr>\n",
       "      <th>Krish</th>\n",
       "      <td>100</td>\n",
       "      <td>100</td>\n",
       "      <td>100</td>\n",
       "    </tr>\n",
       "    <tr>\n",
       "      <th>Ram</th>\n",
       "      <td>87</td>\n",
       "      <td>96</td>\n",
       "      <td>95</td>\n",
       "    </tr>\n",
       "    <tr>\n",
       "      <th>Ravi</th>\n",
       "      <td>88</td>\n",
       "      <td>89</td>\n",
       "      <td>86</td>\n",
       "    </tr>\n",
       "    <tr>\n",
       "      <th>Bhim</th>\n",
       "      <td>100</td>\n",
       "      <td>85</td>\n",
       "      <td>84</td>\n",
       "    </tr>\n",
       "    <tr>\n",
       "      <th>Sanju</th>\n",
       "      <td>89</td>\n",
       "      <td>81</td>\n",
       "      <td>93</td>\n",
       "    </tr>\n",
       "  </tbody>\n",
       "</table>\n",
       "</div>"
      ],
      "text/plain": [
       "       Phy  Maths  Chem\n",
       "Krish  100    100   100\n",
       "Ram     87     96    95\n",
       "Ravi    88     89    86\n",
       "Bhim   100     85    84\n",
       "Sanju   89     81    93"
      ]
     },
     "execution_count": 103,
     "metadata": {},
     "output_type": "execute_result"
    }
   ],
   "source": [
    "grades_df.T.sort_values(by='Maths',ascending=False)"
   ]
  },
  {
   "cell_type": "code",
   "execution_count": 106,
   "id": "50eb938a",
   "metadata": {},
   "outputs": [
    {
     "data": {
      "text/plain": [
       "Bhim      84\n",
       "Ravi      86\n",
       "Sanju     93\n",
       "Ram       95\n",
       "Krish    100\n",
       "Name: Chem, dtype: int64"
      ]
     },
     "execution_count": 106,
     "metadata": {},
     "output_type": "execute_result"
    }
   ],
   "source": [
    "grades_df.loc['Chem'].sort_values(ascending=True)"
   ]
  },
  {
   "cell_type": "raw",
   "id": "e53f038f",
   "metadata": {},
   "source": []
  }
 ],
 "metadata": {
  "kernelspec": {
   "display_name": "Python 3 (ipykernel)",
   "language": "python",
   "name": "python3"
  },
  "language_info": {
   "codemirror_mode": {
    "name": "ipython",
    "version": 3
   },
   "file_extension": ".py",
   "mimetype": "text/x-python",
   "name": "python",
   "nbconvert_exporter": "python",
   "pygments_lexer": "ipython3",
   "version": "3.11.4"
  }
 },
 "nbformat": 4,
 "nbformat_minor": 5
}
