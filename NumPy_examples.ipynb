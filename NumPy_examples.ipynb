{
 "cells": [
  {
   "cell_type": "code",
   "execution_count": 1,
   "id": "db9f94f7",
   "metadata": {},
   "outputs": [],
   "source": [
    "import numpy as np\n",
    "num = np.array([10,20,30,40,50])"
   ]
  },
  {
   "cell_type": "code",
   "execution_count": 2,
   "id": "68a8594f",
   "metadata": {},
   "outputs": [
    {
     "data": {
      "text/plain": [
       "array([10, 20, 30, 40, 50])"
      ]
     },
     "execution_count": 2,
     "metadata": {},
     "output_type": "execute_result"
    }
   ],
   "source": [
    "num"
   ]
  },
  {
   "cell_type": "code",
   "execution_count": 3,
   "id": "4712b3ca",
   "metadata": {},
   "outputs": [
    {
     "data": {
      "text/plain": [
       "numpy.ndarray"
      ]
     },
     "execution_count": 3,
     "metadata": {},
     "output_type": "execute_result"
    }
   ],
   "source": [
    "type(num)"
   ]
  },
  {
   "cell_type": "code",
   "execution_count": 4,
   "id": "94fab5d5",
   "metadata": {},
   "outputs": [
    {
     "data": {
      "text/plain": [
       "array([[1, 2, 3],\n",
       "       [4, 5, 6]])"
      ]
     },
     "execution_count": 4,
     "metadata": {},
     "output_type": "execute_result"
    }
   ],
   "source": [
    "num2 = np.array([[1,2,3],[4,5,6]])\n",
    "num2"
   ]
  },
  {
   "cell_type": "code",
   "execution_count": 5,
   "id": "ece2964b",
   "metadata": {},
   "outputs": [
    {
     "data": {
      "text/plain": [
       "array([0.2, 0.5, 0.6, 0.8, 0.9])"
      ]
     },
     "execution_count": 5,
     "metadata": {},
     "output_type": "execute_result"
    }
   ],
   "source": [
    "floats = np.array([0.2,0.5,0.6,0.8,0.9])\n",
    "floats"
   ]
  },
  {
   "cell_type": "code",
   "execution_count": 6,
   "id": "54e3d51d",
   "metadata": {},
   "outputs": [
    {
     "data": {
      "text/plain": [
       "numpy.ndarray"
      ]
     },
     "execution_count": 6,
     "metadata": {},
     "output_type": "execute_result"
    }
   ],
   "source": [
    "type(floats)"
   ]
  },
  {
   "cell_type": "code",
   "execution_count": 7,
   "id": "627c6535",
   "metadata": {},
   "outputs": [
    {
     "data": {
      "text/plain": [
       "1"
      ]
     },
     "execution_count": 7,
     "metadata": {},
     "output_type": "execute_result"
    }
   ],
   "source": [
    "num.ndim"
   ]
  },
  {
   "cell_type": "code",
   "execution_count": 8,
   "id": "e6373fe1",
   "metadata": {},
   "outputs": [
    {
     "data": {
      "text/plain": [
       "2"
      ]
     },
     "execution_count": 8,
     "metadata": {},
     "output_type": "execute_result"
    }
   ],
   "source": [
    "num2.ndim"
   ]
  },
  {
   "cell_type": "code",
   "execution_count": 9,
   "id": "f0609d58",
   "metadata": {},
   "outputs": [
    {
     "data": {
      "text/plain": [
       "5"
      ]
     },
     "execution_count": 9,
     "metadata": {},
     "output_type": "execute_result"
    }
   ],
   "source": [
    "num.size  #no of elements"
   ]
  },
  {
   "cell_type": "code",
   "execution_count": 11,
   "id": "a8bcc241",
   "metadata": {},
   "outputs": [
    {
     "data": {
      "text/plain": [
       "4"
      ]
     },
     "execution_count": 11,
     "metadata": {},
     "output_type": "execute_result"
    }
   ],
   "source": [
    "num.itemsize #no of bytes"
   ]
  },
  {
   "cell_type": "code",
   "execution_count": 12,
   "id": "92bf1596",
   "metadata": {},
   "outputs": [
    {
     "name": "stdout",
     "output_type": "stream",
     "text": [
      "1 2 3 \n",
      "4 5 6 \n"
     ]
    }
   ],
   "source": [
    "#iterating though multi-dimensional array\n",
    "for r in num2:\n",
    "    for c in r:\n",
    "        print(c,end=\" \")\n",
    "    print()    "
   ]
  },
  {
   "cell_type": "code",
   "execution_count": 14,
   "id": "a6088384",
   "metadata": {},
   "outputs": [
    {
     "data": {
      "text/plain": [
       "array([0., 0., 0., 0., 0.])"
      ]
     },
     "execution_count": 14,
     "metadata": {},
     "output_type": "execute_result"
    }
   ],
   "source": [
    "np.zeros(5)"
   ]
  },
  {
   "cell_type": "code",
   "execution_count": 15,
   "id": "46d21527",
   "metadata": {},
   "outputs": [
    {
     "data": {
      "text/plain": [
       "array([[1, 1, 1],\n",
       "       [1, 1, 1],\n",
       "       [1, 1, 1]])"
      ]
     },
     "execution_count": 15,
     "metadata": {},
     "output_type": "execute_result"
    }
   ],
   "source": [
    "np.ones((3,3),dtype=int)"
   ]
  },
  {
   "cell_type": "code",
   "execution_count": 16,
   "id": "e665729d",
   "metadata": {},
   "outputs": [
    {
     "data": {
      "text/plain": [
       "array([[0., 0., 0.],\n",
       "       [0., 0., 0.]])"
      ]
     },
     "execution_count": 16,
     "metadata": {},
     "output_type": "execute_result"
    }
   ],
   "source": [
    "np.zeros((2,3))"
   ]
  },
  {
   "cell_type": "code",
   "execution_count": 17,
   "id": "1f0ac789",
   "metadata": {},
   "outputs": [
    {
     "data": {
      "text/plain": [
       "array([[15, 15, 15, 15],\n",
       "       [15, 15, 15, 15],\n",
       "       [15, 15, 15, 15],\n",
       "       [15, 15, 15, 15]])"
      ]
     },
     "execution_count": 17,
     "metadata": {},
     "output_type": "execute_result"
    }
   ],
   "source": [
    "np.full((4,4),15)"
   ]
  },
  {
   "cell_type": "markdown",
   "id": "b7166330",
   "metadata": {},
   "source": [
    "##### Creating arrays from Ranges"
   ]
  },
  {
   "cell_type": "code",
   "execution_count": 18,
   "id": "dd125151",
   "metadata": {},
   "outputs": [
    {
     "data": {
      "text/plain": [
       "array([0, 1, 2, 3, 4, 5, 6, 7, 8, 9])"
      ]
     },
     "execution_count": 18,
     "metadata": {},
     "output_type": "execute_result"
    }
   ],
   "source": [
    "np.arange(10)"
   ]
  },
  {
   "cell_type": "code",
   "execution_count": 19,
   "id": "b6b11912",
   "metadata": {},
   "outputs": [
    {
     "data": {
      "text/plain": [
       "array([5, 6, 7, 8, 9])"
      ]
     },
     "execution_count": 19,
     "metadata": {},
     "output_type": "execute_result"
    }
   ],
   "source": [
    "np.arange(5,10)"
   ]
  },
  {
   "cell_type": "code",
   "execution_count": 20,
   "id": "429491bd",
   "metadata": {},
   "outputs": [
    {
     "data": {
      "text/plain": [
       "array([20, 18, 16, 14, 12, 10,  8,  6,  4,  2])"
      ]
     },
     "execution_count": 20,
     "metadata": {},
     "output_type": "execute_result"
    }
   ],
   "source": [
    "np.arange(20,1,-2)"
   ]
  },
  {
   "cell_type": "code",
   "execution_count": 23,
   "id": "04924239",
   "metadata": {},
   "outputs": [
    {
     "data": {
      "text/plain": [
       "array([0.        , 0.02222222, 0.04444444, 0.06666667, 0.08888889,\n",
       "       0.11111111, 0.13333333, 0.15555556, 0.17777778, 0.2       ])"
      ]
     },
     "execution_count": 23,
     "metadata": {},
     "output_type": "execute_result"
    }
   ],
   "source": [
    "np.linspace(0.0,0.2,num=10) #linspace produces evenly spaced floating-point ranges"
   ]
  },
  {
   "cell_type": "code",
   "execution_count": 24,
   "id": "9ffa7989",
   "metadata": {},
   "outputs": [
    {
     "data": {
      "text/plain": [
       "array([[ 1,  2,  3,  4,  5],\n",
       "       [ 6,  7,  8,  9, 10],\n",
       "       [11, 12, 13, 14, 15],\n",
       "       [16, 17, 18, 19, 20]])"
      ]
     },
     "execution_count": 24,
     "metadata": {},
     "output_type": "execute_result"
    }
   ],
   "source": [
    "#Reshaping arrays\n",
    "np.arange(1,21).reshape(4,5)"
   ]
  },
  {
   "cell_type": "code",
   "execution_count": 26,
   "id": "20ef40d2",
   "metadata": {},
   "outputs": [
    {
     "data": {
      "text/plain": [
       "array([1, 2, 3, 4, 5])"
      ]
     },
     "execution_count": 26,
     "metadata": {},
     "output_type": "execute_result"
    }
   ],
   "source": [
    "num3 = np.arange(1,6)\n",
    "num3"
   ]
  },
  {
   "cell_type": "code",
   "execution_count": 27,
   "id": "cc9bc48e",
   "metadata": {},
   "outputs": [
    {
     "data": {
      "text/plain": [
       "array([ 2,  4,  6,  8, 10])"
      ]
     },
     "execution_count": 27,
     "metadata": {},
     "output_type": "execute_result"
    }
   ],
   "source": [
    "num3*2"
   ]
  },
  {
   "cell_type": "code",
   "execution_count": 28,
   "id": "52b82209",
   "metadata": {},
   "outputs": [
    {
     "data": {
      "text/plain": [
       "array([  1,   8,  27,  64, 125], dtype=int32)"
      ]
     },
     "execution_count": 28,
     "metadata": {},
     "output_type": "execute_result"
    }
   ],
   "source": [
    "num3**3"
   ]
  },
  {
   "cell_type": "code",
   "execution_count": 29,
   "id": "0f11207c",
   "metadata": {},
   "outputs": [
    {
     "data": {
      "text/plain": [
       "array([1, 2, 3, 4, 5])"
      ]
     },
     "execution_count": 29,
     "metadata": {},
     "output_type": "execute_result"
    }
   ],
   "source": [
    "num3 # num3 is not changed"
   ]
  },
  {
   "cell_type": "code",
   "execution_count": 30,
   "id": "d9e18308",
   "metadata": {},
   "outputs": [
    {
     "data": {
      "text/plain": [
       "array([11, 12, 13, 14, 15])"
      ]
     },
     "execution_count": 30,
     "metadata": {},
     "output_type": "execute_result"
    }
   ],
   "source": [
    "num3+=10\n",
    "num3"
   ]
  },
  {
   "cell_type": "code",
   "execution_count": 31,
   "id": "c174e68d",
   "metadata": {},
   "outputs": [
    {
     "data": {
      "text/plain": [
       "array([11, 12, 13, 14, 15])"
      ]
     },
     "execution_count": 31,
     "metadata": {},
     "output_type": "execute_result"
    }
   ],
   "source": [
    "num3"
   ]
  },
  {
   "cell_type": "code",
   "execution_count": 34,
   "id": "e4017b29",
   "metadata": {},
   "outputs": [
    {
     "data": {
      "text/plain": [
       "array([22, 24, 39, 28, 60])"
      ]
     },
     "execution_count": 34,
     "metadata": {},
     "output_type": "execute_result"
    }
   ],
   "source": [
    "num3 * [2,2,3,2,4] #broadcasting"
   ]
  },
  {
   "cell_type": "code",
   "execution_count": 35,
   "id": "d50d96b6",
   "metadata": {},
   "outputs": [
    {
     "data": {
      "text/plain": [
       "array([11, 12, 13, 14, 15])"
      ]
     },
     "execution_count": 35,
     "metadata": {},
     "output_type": "execute_result"
    }
   ],
   "source": [
    "num3"
   ]
  },
  {
   "cell_type": "code",
   "execution_count": 36,
   "id": "65292854",
   "metadata": {},
   "outputs": [
    {
     "data": {
      "text/plain": [
       "array([False,  True,  True,  True,  True])"
      ]
     },
     "execution_count": 36,
     "metadata": {},
     "output_type": "execute_result"
    }
   ],
   "source": [
    "num3 >= 12"
   ]
  },
  {
   "cell_type": "code",
   "execution_count": 38,
   "id": "d70ce938",
   "metadata": {},
   "outputs": [
    {
     "data": {
      "text/plain": [
       "array([10, 12, 13, 19, 20])"
      ]
     },
     "execution_count": 38,
     "metadata": {},
     "output_type": "execute_result"
    }
   ],
   "source": [
    "num4 = np.array([10,12,13,19,20])\n",
    "num4"
   ]
  },
  {
   "cell_type": "code",
   "execution_count": 39,
   "id": "6482969b",
   "metadata": {},
   "outputs": [
    {
     "data": {
      "text/plain": [
       "array([False,  True,  True, False, False])"
      ]
     },
     "execution_count": 39,
     "metadata": {},
     "output_type": "execute_result"
    }
   ],
   "source": [
    "num3 == num4"
   ]
  },
  {
   "cell_type": "markdown",
   "id": "1773113d",
   "metadata": {},
   "source": [
    "##### NumPy Calculation Methods"
   ]
  },
  {
   "cell_type": "code",
   "execution_count": 40,
   "id": "1be8adda",
   "metadata": {},
   "outputs": [
    {
     "data": {
      "text/plain": [
       "array([[ 87,  96,  80],\n",
       "       [100,  89,  90],\n",
       "       [ 94,  96,  90],\n",
       "       [100,  91,  92]])"
      ]
     },
     "execution_count": 40,
     "metadata": {},
     "output_type": "execute_result"
    }
   ],
   "source": [
    "grades =np.array([[87,96,80],[100,89,90],\n",
    "                  [94,96,90],[100,91,92]])\n",
    "grades"
   ]
  },
  {
   "cell_type": "code",
   "execution_count": 41,
   "id": "de4782dd",
   "metadata": {},
   "outputs": [
    {
     "data": {
      "text/plain": [
       "1105"
      ]
     },
     "execution_count": 41,
     "metadata": {},
     "output_type": "execute_result"
    }
   ],
   "source": [
    "grades.sum()"
   ]
  },
  {
   "cell_type": "code",
   "execution_count": 42,
   "id": "7ceb74bd",
   "metadata": {},
   "outputs": [
    {
     "data": {
      "text/plain": [
       "92.08333333333333"
      ]
     },
     "execution_count": 42,
     "metadata": {},
     "output_type": "execute_result"
    }
   ],
   "source": [
    "grades.mean()"
   ]
  },
  {
   "cell_type": "code",
   "execution_count": 43,
   "id": "6283ba04",
   "metadata": {},
   "outputs": [
    {
     "data": {
      "text/plain": [
       "80"
      ]
     },
     "execution_count": 43,
     "metadata": {},
     "output_type": "execute_result"
    }
   ],
   "source": [
    "grades.min()"
   ]
  },
  {
   "cell_type": "code",
   "execution_count": 44,
   "id": "80b62783",
   "metadata": {},
   "outputs": [
    {
     "data": {
      "text/plain": [
       "100"
      ]
     },
     "execution_count": 44,
     "metadata": {},
     "output_type": "execute_result"
    }
   ],
   "source": [
    "grades.max()"
   ]
  },
  {
   "cell_type": "code",
   "execution_count": 45,
   "id": "e9eb0769",
   "metadata": {},
   "outputs": [
    {
     "data": {
      "text/plain": [
       "5.407684860969208"
      ]
     },
     "execution_count": 45,
     "metadata": {},
     "output_type": "execute_result"
    }
   ],
   "source": [
    "grades.std()"
   ]
  },
  {
   "cell_type": "code",
   "execution_count": 46,
   "id": "2e9102d5",
   "metadata": {},
   "outputs": [
    {
     "data": {
      "text/plain": [
       "29.243055555555557"
      ]
     },
     "execution_count": 46,
     "metadata": {},
     "output_type": "execute_result"
    }
   ],
   "source": [
    "grades.var()"
   ]
  },
  {
   "cell_type": "code",
   "execution_count": 47,
   "id": "f3cbd6bc",
   "metadata": {},
   "outputs": [
    {
     "data": {
      "text/plain": [
       "array([95.25, 93.  , 88.  ])"
      ]
     },
     "execution_count": 47,
     "metadata": {},
     "output_type": "execute_result"
    }
   ],
   "source": [
    "grades.mean(axis=0) # 0 represents row"
   ]
  },
  {
   "cell_type": "code",
   "execution_count": 49,
   "id": "cb86bbf5",
   "metadata": {},
   "outputs": [
    {
     "data": {
      "text/plain": [
       "array([87.66666667, 93.        , 93.33333333, 94.33333333])"
      ]
     },
     "execution_count": 49,
     "metadata": {},
     "output_type": "execute_result"
    }
   ],
   "source": [
    "grades.mean(axis=1) # 1 represents column"
   ]
  },
  {
   "cell_type": "markdown",
   "id": "07a34f84",
   "metadata": {},
   "source": [
    "##### Universal Functions "
   ]
  },
  {
   "cell_type": "code",
   "execution_count": 59,
   "id": "b8fbf2c3",
   "metadata": {},
   "outputs": [],
   "source": [
    "num5 = np.array([1,2,3,4,5,6])\n",
    "num6 = np.array([100,200,300,500,600,700])"
   ]
  },
  {
   "cell_type": "code",
   "execution_count": 60,
   "id": "383d6e74",
   "metadata": {},
   "outputs": [
    {
     "data": {
      "text/plain": [
       "array([10.        , 14.14213562, 17.32050808, 22.36067977, 24.49489743,\n",
       "       26.45751311])"
      ]
     },
     "execution_count": 60,
     "metadata": {},
     "output_type": "execute_result"
    }
   ],
   "source": [
    "np.sqrt(num6)"
   ]
  },
  {
   "cell_type": "code",
   "execution_count": 61,
   "id": "b601ba32",
   "metadata": {},
   "outputs": [
    {
     "data": {
      "text/plain": [
       "array([101, 202, 303, 504, 605, 706])"
      ]
     },
     "execution_count": 61,
     "metadata": {},
     "output_type": "execute_result"
    }
   ],
   "source": [
    "np.add(num5,num6)"
   ]
  },
  {
   "cell_type": "code",
   "execution_count": 62,
   "id": "bb5c35dd",
   "metadata": {},
   "outputs": [
    {
     "data": {
      "text/plain": [
       "array([ 5, 10, 15, 20, 25, 30])"
      ]
     },
     "execution_count": 62,
     "metadata": {},
     "output_type": "execute_result"
    }
   ],
   "source": [
    "np.multiply(num5,5)"
   ]
  },
  {
   "cell_type": "code",
   "execution_count": 66,
   "id": "9a9b4aea",
   "metadata": {},
   "outputs": [
    {
     "data": {
      "text/plain": [
       "array([[1, 2, 3],\n",
       "       [4, 5, 6]])"
      ]
     },
     "execution_count": 66,
     "metadata": {},
     "output_type": "execute_result"
    }
   ],
   "source": [
    "num6 = num5.reshape(2,3)\n",
    "num6"
   ]
  },
  {
   "cell_type": "markdown",
   "id": "ca4cbf35",
   "metadata": {},
   "source": [
    "##### Indexing and Slicing"
   ]
  },
  {
   "cell_type": "code",
   "execution_count": 70,
   "id": "647bbf22",
   "metadata": {},
   "outputs": [
    {
     "data": {
      "text/plain": [
       "array([[ 87,  96,  80],\n",
       "       [100,  89,  90],\n",
       "       [ 94,  96,  90],\n",
       "       [100,  91,  92]])"
      ]
     },
     "execution_count": 70,
     "metadata": {},
     "output_type": "execute_result"
    }
   ],
   "source": [
    "grades =np.array([[87,96,80],[100,89,90],\n",
    "                  [94,96,90],[100,91,92]])\n",
    "grades"
   ]
  },
  {
   "cell_type": "code",
   "execution_count": 71,
   "id": "782e61d3",
   "metadata": {},
   "outputs": [
    {
     "data": {
      "text/plain": [
       "96"
      ]
     },
     "execution_count": 71,
     "metadata": {},
     "output_type": "execute_result"
    }
   ],
   "source": [
    "grades[0,1]"
   ]
  },
  {
   "cell_type": "code",
   "execution_count": 73,
   "id": "518aa049",
   "metadata": {},
   "outputs": [
    {
     "data": {
      "text/plain": [
       "array([[ 87,  96,  80],\n",
       "       [100,  89,  90]])"
      ]
     },
     "execution_count": 73,
     "metadata": {},
     "output_type": "execute_result"
    }
   ],
   "source": [
    "grades[0:2] #select sequential rows"
   ]
  },
  {
   "cell_type": "code",
   "execution_count": 75,
   "id": "65959088",
   "metadata": {},
   "outputs": [
    {
     "data": {
      "text/plain": [
       "array([[100,  89,  90],\n",
       "       [100,  91,  92]])"
      ]
     },
     "execution_count": 75,
     "metadata": {},
     "output_type": "execute_result"
    }
   ],
   "source": [
    "grades[[1,3]] # select non-sequential rows"
   ]
  },
  {
   "cell_type": "code",
   "execution_count": 79,
   "id": "6949c06a",
   "metadata": {},
   "outputs": [
    {
     "data": {
      "text/plain": [
       "array([80, 90, 90, 92])"
      ]
     },
     "execution_count": 79,
     "metadata": {},
     "output_type": "execute_result"
    }
   ],
   "source": [
    "grades[:,2] #select only elements in lst column"
   ]
  },
  {
   "cell_type": "code",
   "execution_count": 81,
   "id": "ed74eaf8",
   "metadata": {},
   "outputs": [
    {
     "data": {
      "text/plain": [
       "array([[96, 80],\n",
       "       [89, 90],\n",
       "       [96, 90],\n",
       "       [91, 92]])"
      ]
     },
     "execution_count": 81,
     "metadata": {},
     "output_type": "execute_result"
    }
   ],
   "source": [
    "grades[:,1:3] #selecting consecutive columns using slice"
   ]
  },
  {
   "cell_type": "code",
   "execution_count": 82,
   "id": "ebe1d02b",
   "metadata": {},
   "outputs": [
    {
     "data": {
      "text/plain": [
       "array([[ 87,  80],\n",
       "       [100,  90],\n",
       "       [ 94,  90],\n",
       "       [100,  92]])"
      ]
     },
     "execution_count": 82,
     "metadata": {},
     "output_type": "execute_result"
    }
   ],
   "source": [
    "grades[:,[0,2]] #selectin non-consecutive columns using slice"
   ]
  },
  {
   "cell_type": "markdown",
   "id": "b8369c16",
   "metadata": {},
   "source": [
    "##### Views - Shallow Copy"
   ]
  },
  {
   "cell_type": "code",
   "execution_count": 1,
   "id": "1bb32f0d",
   "metadata": {},
   "outputs": [],
   "source": [
    "import numpy as np"
   ]
  },
  {
   "cell_type": "code",
   "execution_count": 2,
   "id": "6752a672",
   "metadata": {},
   "outputs": [
    {
     "data": {
      "text/plain": [
       "array([1, 2, 3, 4, 5])"
      ]
     },
     "execution_count": 2,
     "metadata": {},
     "output_type": "execute_result"
    }
   ],
   "source": [
    "numbers = np.arange(1,6)\n",
    "numbers"
   ]
  },
  {
   "cell_type": "code",
   "execution_count": 3,
   "id": "ea11b215",
   "metadata": {},
   "outputs": [
    {
     "data": {
      "text/plain": [
       "array([1, 2, 3, 4, 5])"
      ]
     },
     "execution_count": 3,
     "metadata": {},
     "output_type": "execute_result"
    }
   ],
   "source": [
    "numbers1 = numbers.view()\n",
    "numbers1"
   ]
  },
  {
   "cell_type": "code",
   "execution_count": 4,
   "id": "321c5b75",
   "metadata": {},
   "outputs": [
    {
     "data": {
      "text/plain": [
       "1810895998768"
      ]
     },
     "execution_count": 4,
     "metadata": {},
     "output_type": "execute_result"
    }
   ],
   "source": [
    "id(numbers)"
   ]
  },
  {
   "cell_type": "code",
   "execution_count": 6,
   "id": "2b862336",
   "metadata": {},
   "outputs": [
    {
     "data": {
      "text/plain": [
       "1810895998864"
      ]
     },
     "execution_count": 6,
     "metadata": {},
     "output_type": "execute_result"
    }
   ],
   "source": [
    "id(numbers1)"
   ]
  },
  {
   "cell_type": "code",
   "execution_count": 7,
   "id": "3a20c50b",
   "metadata": {},
   "outputs": [],
   "source": [
    "numbers[1]*=10"
   ]
  },
  {
   "cell_type": "code",
   "execution_count": 8,
   "id": "ff78fbae",
   "metadata": {},
   "outputs": [
    {
     "data": {
      "text/plain": [
       "array([ 1, 20,  3,  4,  5])"
      ]
     },
     "execution_count": 8,
     "metadata": {},
     "output_type": "execute_result"
    }
   ],
   "source": [
    "numbers"
   ]
  },
  {
   "cell_type": "code",
   "execution_count": 10,
   "id": "6b943a54",
   "metadata": {},
   "outputs": [
    {
     "data": {
      "text/plain": [
       "array([ 1, 20,  3,  4,  5])"
      ]
     },
     "execution_count": 10,
     "metadata": {},
     "output_type": "execute_result"
    }
   ],
   "source": [
    "numbers1"
   ]
  },
  {
   "cell_type": "code",
   "execution_count": 11,
   "id": "482893b4",
   "metadata": {},
   "outputs": [],
   "source": [
    "numbers1[3]+=100"
   ]
  },
  {
   "cell_type": "code",
   "execution_count": 12,
   "id": "8ca2f43c",
   "metadata": {},
   "outputs": [
    {
     "data": {
      "text/plain": [
       "array([  1,  20,   3, 104,   5])"
      ]
     },
     "execution_count": 12,
     "metadata": {},
     "output_type": "execute_result"
    }
   ],
   "source": [
    "numbers1"
   ]
  },
  {
   "cell_type": "code",
   "execution_count": 13,
   "id": "f1d1cae8",
   "metadata": {},
   "outputs": [
    {
     "data": {
      "text/plain": [
       "array([  1,  20,   3, 104,   5])"
      ]
     },
     "execution_count": 13,
     "metadata": {},
     "output_type": "execute_result"
    }
   ],
   "source": [
    "numbers"
   ]
  },
  {
   "cell_type": "code",
   "execution_count": 14,
   "id": "b848c9eb",
   "metadata": {},
   "outputs": [],
   "source": [
    "numbers2 = numbers[0:3] #slicing also creates view"
   ]
  },
  {
   "cell_type": "code",
   "execution_count": 15,
   "id": "29457dd0",
   "metadata": {},
   "outputs": [
    {
     "data": {
      "text/plain": [
       "array([ 1, 20,  3])"
      ]
     },
     "execution_count": 15,
     "metadata": {},
     "output_type": "execute_result"
    }
   ],
   "source": [
    "numbers2"
   ]
  },
  {
   "cell_type": "code",
   "execution_count": 16,
   "id": "63f5a503",
   "metadata": {},
   "outputs": [],
   "source": [
    "numbers[1]/=2"
   ]
  },
  {
   "cell_type": "code",
   "execution_count": 17,
   "id": "c16a9a90",
   "metadata": {},
   "outputs": [
    {
     "data": {
      "text/plain": [
       "array([  1,  10,   3, 104,   5])"
      ]
     },
     "execution_count": 17,
     "metadata": {},
     "output_type": "execute_result"
    }
   ],
   "source": [
    "numbers"
   ]
  },
  {
   "cell_type": "code",
   "execution_count": 18,
   "id": "637d4c78",
   "metadata": {},
   "outputs": [
    {
     "data": {
      "text/plain": [
       "array([ 1, 10,  3])"
      ]
     },
     "execution_count": 18,
     "metadata": {},
     "output_type": "execute_result"
    }
   ],
   "source": [
    "numbers2"
   ]
  },
  {
   "cell_type": "markdown",
   "id": "73e3d155",
   "metadata": {},
   "source": [
    "##### Deep Copy"
   ]
  },
  {
   "cell_type": "code",
   "execution_count": 20,
   "id": "05d4542f",
   "metadata": {},
   "outputs": [],
   "source": [
    "numb = np.arange(1,8)"
   ]
  },
  {
   "cell_type": "code",
   "execution_count": 21,
   "id": "c188ccce",
   "metadata": {},
   "outputs": [
    {
     "data": {
      "text/plain": [
       "array([1, 2, 3, 4, 5, 6, 7])"
      ]
     },
     "execution_count": 21,
     "metadata": {},
     "output_type": "execute_result"
    }
   ],
   "source": [
    "numb"
   ]
  },
  {
   "cell_type": "code",
   "execution_count": 22,
   "id": "5e4e1f88",
   "metadata": {},
   "outputs": [
    {
     "data": {
      "text/plain": [
       "array([1, 2, 3, 4, 5, 6, 7])"
      ]
     },
     "execution_count": 22,
     "metadata": {},
     "output_type": "execute_result"
    }
   ],
   "source": [
    "numb_deep_copy = numb.copy()\n",
    "numb_deep_copy"
   ]
  },
  {
   "cell_type": "code",
   "execution_count": 23,
   "id": "1a3fd717",
   "metadata": {},
   "outputs": [
    {
     "data": {
      "text/plain": [
       "array([ 1,  2,  3,  4,  5, 30,  7])"
      ]
     },
     "execution_count": 23,
     "metadata": {},
     "output_type": "execute_result"
    }
   ],
   "source": [
    "numb[5]*=5\n",
    "numb"
   ]
  },
  {
   "cell_type": "code",
   "execution_count": 24,
   "id": "17c12cf8",
   "metadata": {},
   "outputs": [
    {
     "data": {
      "text/plain": [
       "array([1, 2, 3, 4, 5, 6, 7])"
      ]
     },
     "execution_count": 24,
     "metadata": {},
     "output_type": "execute_result"
    }
   ],
   "source": [
    "numb_deep_copy"
   ]
  },
  {
   "cell_type": "markdown",
   "id": "29557da6",
   "metadata": {},
   "source": [
    "##### Reshaping and Transposing"
   ]
  },
  {
   "cell_type": "code",
   "execution_count": 25,
   "id": "c433e516",
   "metadata": {},
   "outputs": [
    {
     "data": {
      "text/plain": [
       "array([[ 87,  96,  80],\n",
       "       [100,  89,  90]])"
      ]
     },
     "execution_count": 25,
     "metadata": {},
     "output_type": "execute_result"
    }
   ],
   "source": [
    "marks =np.array([[87,96,80],[100,89,90]])\n",
    "marks"
   ]
  },
  {
   "cell_type": "code",
   "execution_count": 28,
   "id": "b095ba25",
   "metadata": {},
   "outputs": [
    {
     "data": {
      "text/plain": [
       "array([[ 87,  96,  80, 100,  89,  90]])"
      ]
     },
     "execution_count": 28,
     "metadata": {},
     "output_type": "execute_result"
    }
   ],
   "source": [
    "marks.reshape(1,6)  #reshape does not modify original"
   ]
  },
  {
   "cell_type": "code",
   "execution_count": 29,
   "id": "150d62f7",
   "metadata": {},
   "outputs": [
    {
     "data": {
      "text/plain": [
       "array([[ 87,  96,  80],\n",
       "       [100,  89,  90]])"
      ]
     },
     "execution_count": 29,
     "metadata": {},
     "output_type": "execute_result"
    }
   ],
   "source": [
    "marks"
   ]
  },
  {
   "cell_type": "code",
   "execution_count": 30,
   "id": "0351f82e",
   "metadata": {},
   "outputs": [
    {
     "data": {
      "text/plain": [
       "array([[ 87,  96,  80],\n",
       "       [100,  89,  90]])"
      ]
     },
     "execution_count": 30,
     "metadata": {},
     "output_type": "execute_result"
    }
   ],
   "source": [
    "marks1 =np.array([[87,96,80],[100,89,90]])\n",
    "marks1"
   ]
  },
  {
   "cell_type": "code",
   "execution_count": 32,
   "id": "2d3c4cfa",
   "metadata": {},
   "outputs": [
    {
     "data": {
      "text/plain": [
       "array([[ 87,  96,  80, 100,  89,  90]])"
      ]
     },
     "execution_count": 32,
     "metadata": {},
     "output_type": "execute_result"
    }
   ],
   "source": [
    "marks1.resize(1,6)\n",
    "marks1"
   ]
  },
  {
   "cell_type": "markdown",
   "id": "dbd475dd",
   "metadata": {},
   "source": [
    "##### flatten Vs ravel"
   ]
  },
  {
   "cell_type": "code",
   "execution_count": 33,
   "id": "8a5636d8",
   "metadata": {},
   "outputs": [
    {
     "data": {
      "text/plain": [
       "array([ 87,  96,  80, 100,  89,  90])"
      ]
     },
     "execution_count": 33,
     "metadata": {},
     "output_type": "execute_result"
    }
   ],
   "source": [
    "f = np.array([[87,96,80],[100,89,90]]) \n",
    "flat = f.flatten()  #flatten does not share dat with original\n",
    "flat"
   ]
  },
  {
   "cell_type": "code",
   "execution_count": 34,
   "id": "d12a40a0",
   "metadata": {},
   "outputs": [
    {
     "data": {
      "text/plain": [
       "array([[ 87,  96,  80],\n",
       "       [100,  89,  90]])"
      ]
     },
     "execution_count": 34,
     "metadata": {},
     "output_type": "execute_result"
    }
   ],
   "source": [
    "f"
   ]
  },
  {
   "cell_type": "code",
   "execution_count": 35,
   "id": "664aae08",
   "metadata": {},
   "outputs": [
    {
     "data": {
      "text/plain": [
       "array([[ 87,  96,  80],\n",
       "       [100,  89,  90]])"
      ]
     },
     "execution_count": 35,
     "metadata": {},
     "output_type": "execute_result"
    }
   ],
   "source": [
    "r = np.array([[87,96,80],[100,89,90]]) \n",
    "r"
   ]
  },
  {
   "cell_type": "code",
   "execution_count": 36,
   "id": "a94000b6",
   "metadata": {},
   "outputs": [
    {
     "data": {
      "text/plain": [
       "array([ 87,  96,  80, 100,  89,  90])"
      ]
     },
     "execution_count": 36,
     "metadata": {},
     "output_type": "execute_result"
    }
   ],
   "source": [
    "ra = r.ravel()\n",
    "ra"
   ]
  },
  {
   "cell_type": "code",
   "execution_count": 37,
   "id": "75a263e1",
   "metadata": {},
   "outputs": [
    {
     "data": {
      "text/plain": [
       "array([[ 87,  96,  80],\n",
       "       [100,  89,  90]])"
      ]
     },
     "execution_count": 37,
     "metadata": {},
     "output_type": "execute_result"
    }
   ],
   "source": [
    "r"
   ]
  },
  {
   "cell_type": "code",
   "execution_count": 38,
   "id": "721d7de3",
   "metadata": {},
   "outputs": [
    {
     "data": {
      "text/plain": [
       "array([ 87,  96,  80, 100, 445,  90])"
      ]
     },
     "execution_count": 38,
     "metadata": {},
     "output_type": "execute_result"
    }
   ],
   "source": [
    "ra[4]*=5\n",
    "ra"
   ]
  },
  {
   "cell_type": "code",
   "execution_count": 39,
   "id": "1a5418c2",
   "metadata": {},
   "outputs": [
    {
     "data": {
      "text/plain": [
       "array([[ 87,  96,  80],\n",
       "       [100, 445,  90]])"
      ]
     },
     "execution_count": 39,
     "metadata": {},
     "output_type": "execute_result"
    }
   ],
   "source": [
    "r"
   ]
  },
  {
   "cell_type": "markdown",
   "id": "277edc4d",
   "metadata": {},
   "source": [
    "##### Transpose columns and rows"
   ]
  },
  {
   "cell_type": "code",
   "execution_count": 42,
   "id": "39168817",
   "metadata": {},
   "outputs": [
    {
     "data": {
      "text/plain": [
       "array([[ 87,  96,  80],\n",
       "       [100,  89,  90]])"
      ]
     },
     "execution_count": 42,
     "metadata": {},
     "output_type": "execute_result"
    }
   ],
   "source": [
    "result = np.array([[ 87,  96,  80],\n",
    "       [100,  89,  90]])\n",
    "result"
   ]
  },
  {
   "cell_type": "code",
   "execution_count": 43,
   "id": "f4b0e234",
   "metadata": {},
   "outputs": [
    {
     "data": {
      "text/plain": [
       "array([[ 87, 100],\n",
       "       [ 96,  89],\n",
       "       [ 80,  90]])"
      ]
     },
     "execution_count": 43,
     "metadata": {},
     "output_type": "execute_result"
    }
   ],
   "source": [
    "result.T"
   ]
  },
  {
   "cell_type": "markdown",
   "id": "e2286210",
   "metadata": {},
   "source": [
    "##### Horizontal and Vertical stacking"
   ]
  },
  {
   "cell_type": "code",
   "execution_count": 44,
   "id": "f27ec45e",
   "metadata": {},
   "outputs": [],
   "source": [
    "p = np.array([[87,96,80],[100,89,90]]) \n",
    "q = np.array([[94,96,90],[100,91,92]])"
   ]
  },
  {
   "cell_type": "code",
   "execution_count": 45,
   "id": "3990a580",
   "metadata": {},
   "outputs": [
    {
     "data": {
      "text/plain": [
       "array([[ 87,  96,  80,  94,  96,  90],\n",
       "       [100,  89,  90, 100,  91,  92]])"
      ]
     },
     "execution_count": 45,
     "metadata": {},
     "output_type": "execute_result"
    }
   ],
   "source": [
    "np.hstack((p,q))"
   ]
  },
  {
   "cell_type": "code",
   "execution_count": 46,
   "id": "d68587c3",
   "metadata": {},
   "outputs": [
    {
     "data": {
      "text/plain": [
       "array([[ 87,  96,  80],\n",
       "       [100,  89,  90],\n",
       "       [ 94,  96,  90],\n",
       "       [100,  91,  92]])"
      ]
     },
     "execution_count": 46,
     "metadata": {},
     "output_type": "execute_result"
    }
   ],
   "source": [
    "np.vstack((p,q))"
   ]
  }
 ],
 "metadata": {
  "kernelspec": {
   "display_name": "Python 3 (ipykernel)",
   "language": "python",
   "name": "python3"
  },
  "language_info": {
   "codemirror_mode": {
    "name": "ipython",
    "version": 3
   },
   "file_extension": ".py",
   "mimetype": "text/x-python",
   "name": "python",
   "nbconvert_exporter": "python",
   "pygments_lexer": "ipython3",
   "version": "3.11.4"
  }
 },
 "nbformat": 4,
 "nbformat_minor": 5
}
