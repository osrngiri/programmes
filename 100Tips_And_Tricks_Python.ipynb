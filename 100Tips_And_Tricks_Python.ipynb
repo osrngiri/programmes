{
 "cells": [
  {
   "cell_type": "code",
   "execution_count": 1,
   "id": "393bd5a5",
   "metadata": {},
   "outputs": [],
   "source": [
    "import pandas as pd\n",
    "import numpy as np"
   ]
  },
  {
   "cell_type": "code",
   "execution_count": 2,
   "id": "53feb59f",
   "metadata": {},
   "outputs": [
    {
     "name": "stdout",
     "output_type": "stream",
     "text": [
      "1 2 3 4 5 "
     ]
    }
   ],
   "source": [
    "#Printing Horizontally\n",
    "l = [1,2,3,4,5]\n",
    "for i in l:\n",
    "    print(i, end=' ')"
   ]
  },
  {
   "cell_type": "code",
   "execution_count": 3,
   "id": "e5f7b332",
   "metadata": {},
   "outputs": [
    {
     "name": "stdout",
     "output_type": "stream",
     "text": [
      "16/02/2024\n"
     ]
    }
   ],
   "source": [
    "print('16','02','2024',sep='/')"
   ]
  },
  {
   "cell_type": "code",
   "execution_count": 4,
   "id": "5321eaf5",
   "metadata": {},
   "outputs": [
    {
     "name": "stdout",
     "output_type": "stream",
     "text": [
      "{'A': 10, 'B': 20, 'C': 30, 'X': 100, 'Y': 200}\n"
     ]
    }
   ],
   "source": [
    "#Merging Dictionaries\n",
    "d1 = {'A':10,'B':20,'C':30}\n",
    "d2 = {'X':100,'Y':200}\n",
    "final_dict = d1 | d2\n",
    "print(final_dict)"
   ]
  },
  {
   "cell_type": "code",
   "execution_count": 5,
   "id": "b68b4a54",
   "metadata": {},
   "outputs": [
    {
     "name": "stdout",
     "output_type": "stream",
     "text": [
      "{'A': 10, 'B': 20, 'C': 30, 'X': 100, 'Y': 200}\n"
     ]
    }
   ],
   "source": [
    "final_dict1 = {**d1,**d2}\n",
    "print(final_dict1)"
   ]
  },
  {
   "cell_type": "code",
   "execution_count": 6,
   "id": "58070c9b",
   "metadata": {},
   "outputs": [
    {
     "name": "stdout",
     "output_type": "stream",
     "text": [
      "   February 2024\n",
      "Mo Tu We Th Fr Sa Su\n",
      "          1  2  3  4\n",
      " 5  6  7  8  9 10 11\n",
      "12 13 14 15 16 17 18\n",
      "19 20 21 22 23 24 25\n",
      "26 27 28 29\n",
      "\n"
     ]
    }
   ],
   "source": [
    "#Calendar with Python\n",
    "import calendar\n",
    "month = calendar.month(2024,2)\n",
    "print(month)"
   ]
  },
  {
   "cell_type": "code",
   "execution_count": 7,
   "id": "117fc209",
   "metadata": {},
   "outputs": [
    {
     "name": "stdout",
     "output_type": "stream",
     "text": [
      "True\n"
     ]
    }
   ],
   "source": [
    "leap_year_chk = calendar.isleap(2024)\n",
    "print(leap_year_chk)"
   ]
  },
  {
   "cell_type": "code",
   "execution_count": 8,
   "id": "5f6f8607",
   "metadata": {},
   "outputs": [
    {
     "name": "stdout",
     "output_type": "stream",
     "text": [
      "The time now is 09:08:07\n"
     ]
    }
   ],
   "source": [
    "#Get Current Time and Date\n",
    "from datetime import datetime\n",
    "time_now = datetime.now().strftime('%H:%M:%S')\n",
    "print(f'The time now is {time_now}')"
   ]
  },
  {
   "cell_type": "code",
   "execution_count": 9,
   "id": "d2429512",
   "metadata": {},
   "outputs": [
    {
     "name": "stdout",
     "output_type": "stream",
     "text": [
      "2024-02-26\n"
     ]
    }
   ],
   "source": [
    "from datetime import date\n",
    "today_date = date.today()\n",
    "print(today_date)"
   ]
  },
  {
   "cell_type": "code",
   "execution_count": 10,
   "id": "269bcbba",
   "metadata": {},
   "outputs": [
    {
     "name": "stdout",
     "output_type": "stream",
     "text": [
      "[80, 51, 49, 36, 20, 18, 11, 1]\n"
     ]
    }
   ],
   "source": [
    "#Sort a List in Descending Order\n",
    "list1 = [20, 51, 36, 18, 1, 80, 49, 11]\n",
    "list1.sort(reverse=True)\n",
    "print(list1)"
   ]
  },
  {
   "cell_type": "code",
   "execution_count": 11,
   "id": "d8042360",
   "metadata": {},
   "outputs": [
    {
     "name": "stdout",
     "output_type": "stream",
     "text": [
      "x= 200 y= 100\n"
     ]
    }
   ],
   "source": [
    "#Swapping Variables\n",
    "x, y = 100, 200\n",
    "x, y = y, x\n",
    "print('x=',x,'y=',y)"
   ]
  },
  {
   "cell_type": "code",
   "execution_count": 12,
   "id": "62ed6849",
   "metadata": {},
   "outputs": [
    {
     "name": "stdout",
     "output_type": "stream",
     "text": [
      "x= 20 y= 10\n"
     ]
    }
   ],
   "source": [
    "x = 10\n",
    "y = 20\n",
    "x ^= y\n",
    "y ^= x\n",
    "x ^= y\n",
    "print('x=',x,'y=',y)"
   ]
  },
  {
   "cell_type": "code",
   "execution_count": 13,
   "id": "4fc91b6a",
   "metadata": {},
   "outputs": [
    {
     "name": "stdout",
     "output_type": "stream",
     "text": [
      "A appears 3 times\n"
     ]
    }
   ],
   "source": [
    "#Counting Item Occurrences\n",
    "from collections import Counter\n",
    "list2 = ['A','B','C','A','A','D']\n",
    "count_A = Counter(list2).get('A')\n",
    "print(f'A appears {count_A} times')"
   ]
  },
  {
   "cell_type": "code",
   "execution_count": 14,
   "id": "1b9e7298",
   "metadata": {},
   "outputs": [
    {
     "name": "stdout",
     "output_type": "stream",
     "text": [
      "[1, 2, 3, 4, 5, 6]\n",
      "[1, 2, 3, 4, 5, 6]\n",
      "[1, 2, 3, 4, 5, 6]\n"
     ]
    }
   ],
   "source": [
    "#Flatten a Nested List\n",
    "list3 = [[1,2,3],[4,5,6]]\n",
    "new_list1=[]\n",
    "for i in list3:\n",
    "    for j in i:\n",
    "        new_list1.append(j)\n",
    "print(new_list1)\n",
    "\n",
    "#using itertools\n",
    "import itertools\n",
    "flat_list = list(itertools.chain.from_iterable(list3))\n",
    "print(flat_list)\n",
    "\n",
    "#Using list comprehension\n",
    "fl_list = [i for j in list3 for i in j]\n",
    "print(fl_list)"
   ]
  },
  {
   "cell_type": "code",
   "execution_count": 15,
   "id": "2da10a6d",
   "metadata": {},
   "outputs": [
    {
     "name": "stdout",
     "output_type": "stream",
     "text": [
      "Index of Biggest number :3\n",
      "Index of Smallest number :0\n"
     ]
    }
   ],
   "source": [
    "#Index of the Biggest Number\n",
    "x = [12, 45, 67, 89, 34, 67, 13]\n",
    "x_max = max(enumerate(x, start=0),key = lambda x : x[1])\n",
    "print(f'Index of Biggest number :{x_max[0]}')\n",
    "x_min = min(enumerate(x, start=0),key = lambda x : x[1])\n",
    "print(f'Index of Smallest number :{x_min[0]}')"
   ]
  },
  {
   "cell_type": "code",
   "execution_count": 16,
   "id": "7a7dd893",
   "metadata": {},
   "outputs": [
    {
     "name": "stdout",
     "output_type": "stream",
     "text": [
      "[12, 45, 67, 89, 34, 67, 13]\n",
      "10.63014581273465\n"
     ]
    }
   ],
   "source": [
    "#Absolute Value of a Number\n",
    "list1 = [-12, -45, -67, -89, -34, 67, -13]\n",
    "print([abs(num) for num in list1])\n",
    "\n",
    "complex_num = 7+8j\n",
    "print(abs(complex_num))"
   ]
  },
  {
   "cell_type": "code",
   "execution_count": 17,
   "id": "03f2bc57",
   "metadata": {},
   "outputs": [
    {
     "name": "stdout",
     "output_type": "stream",
     "text": [
      "['10,989,767', '9,876,780', '9,908,763']\n",
      "['10_989_767', '9_876_780', '9_908_763']\n"
     ]
    }
   ],
   "source": [
    "#Adding a Thousand Separator\n",
    "a = [10989767, 9876780, 9908763]\n",
    "new_list = ['{:,}'.format(num) for num in a]\n",
    "print(new_list)\n",
    "\n",
    "new_list1 = [f'{num:_}' for num in a]\n",
    "print(new_list1)"
   ]
  },
  {
   "cell_type": "code",
   "execution_count": 18,
   "id": "618bb232",
   "metadata": {},
   "outputs": [
    {
     "name": "stdout",
     "output_type": "stream",
     "text": [
      "['apple', 'apricot']\n",
      "['Orange', 'apple']\n"
     ]
    }
   ],
   "source": [
    "#Startswith and Endswith Methods\n",
    "list1 = ['lemon','Orange','apple', 'apricot']\n",
    "new_list2 = [i for i in list1 if i.startswith('a')]\n",
    "print(new_list2)\n",
    "new_list3 = [i for i in list1 if i.endswith('e')]\n",
    "print(new_list3)"
   ]
  },
  {
   "cell_type": "code",
   "execution_count": 19,
   "id": "be90d4ba",
   "metadata": {},
   "outputs": [
    {
     "name": "stdout",
     "output_type": "stream",
     "text": [
      "[98, 90, 68, 67, 64]\n",
      "Nth Largest :[98, 90, 68, 67, 64]\n",
      "Nth smallest :[12, 34, 35, 54, 55]\n"
     ]
    }
   ],
   "source": [
    "#Nlargest and Nsmallest\n",
    "def sort_list(arr: list):\n",
    "    a = sorted(arr,reverse=True)\n",
    "    return a[:5]\n",
    "x = [12, 34, 67, 98, 90, 68, 55, 54, 64, 35]\n",
    "print(sort_list(x))\n",
    "\n",
    "import heapq\n",
    "print(f'Nth Largest :{heapq.nlargest(5,x)}')\n",
    "\n",
    "print(f'Nth smallest :{heapq.nsmallest(5,x)}')"
   ]
  },
  {
   "cell_type": "code",
   "execution_count": 20,
   "id": "22d23de5",
   "metadata": {},
   "outputs": [
    {
     "name": "stdout",
     "output_type": "stream",
     "text": [
      "True\n",
      "Anagram\n"
     ]
    }
   ],
   "source": [
    "#Checking for Anagram\n",
    "from collections import Counter\n",
    "a = 'lost'\n",
    "b = 'stol'\n",
    "print((Counter(a) == Counter(b)))\n",
    "\n",
    "if (sorted(a) == sorted(b)):\n",
    "    print('Anagram')\n",
    "else:\n",
    "    print('Not Anagram')    "
   ]
  },
  {
   "cell_type": "code",
   "execution_count": 21,
   "id": "7cc226a9",
   "metadata": {},
   "outputs": [
    {
     "name": "stdout",
     "output_type": "stream",
     "text": [
      "\n",
      "Here is a list of the Python keywords.  Enter any keyword to get more help.\n",
      "\n",
      "False               class               from                or\n",
      "None                continue            global              pass\n",
      "True                def                 if                  raise\n",
      "and                 del                 import              return\n",
      "as                  elif                in                  try\n",
      "assert              else                is                  while\n",
      "async               except              lambda              with\n",
      "await               finally             nonlocal            yield\n",
      "break               for                 not                 \n",
      "\n",
      "None\n"
     ]
    }
   ],
   "source": [
    "print(help('keywords'))"
   ]
  },
  {
   "cell_type": "code",
   "execution_count": 22,
   "id": "ea46a0e7",
   "metadata": {},
   "outputs": [
    {
     "name": "stdout",
     "output_type": "stream",
     "text": [
      "['__add__', '__class__', '__contains__', '__delattr__', '__dir__', '__doc__', '__eq__', '__format__', '__ge__', '__getattribute__', '__getitem__', '__getnewargs__', '__getstate__', '__gt__', '__hash__', '__init__', '__init_subclass__', '__iter__', '__le__', '__len__', '__lt__', '__mod__', '__mul__', '__ne__', '__new__', '__reduce__', '__reduce_ex__', '__repr__', '__rmod__', '__rmul__', '__setattr__', '__sizeof__', '__str__', '__subclasshook__', 'capitalize', 'casefold', 'center', 'count', 'encode', 'endswith', 'expandtabs', 'find', 'format', 'format_map', 'index', 'isalnum', 'isalpha', 'isascii', 'isdecimal', 'isdigit', 'isidentifier', 'islower', 'isnumeric', 'isprintable', 'isspace', 'istitle', 'isupper', 'join', 'ljust', 'lower', 'lstrip', 'maketrans', 'partition', 'removeprefix', 'removesuffix', 'replace', 'rfind', 'rindex', 'rjust', 'rpartition', 'rsplit', 'rstrip', 'split', 'splitlines', 'startswith', 'strip', 'swapcase', 'title', 'translate', 'upper', 'zfill']\n"
     ]
    }
   ],
   "source": [
    "a = 'I love Python'\n",
    "print(dir('a'))"
   ]
  },
  {
   "cell_type": "code",
   "execution_count": 23,
   "id": "b7607959",
   "metadata": {},
   "outputs": [
    {
     "name": "stdout",
     "output_type": "stream",
     "text": [
      "['__add__', '__class__', '__contains__', '__delattr__', '__dir__', '__doc__', '__eq__', '__format__', '__ge__', '__getattribute__', '__getitem__', '__getnewargs__', '__getstate__', '__gt__', '__hash__', '__init__', '__init_subclass__', '__iter__', '__le__', '__len__', '__lt__', '__mod__', '__mul__', '__ne__', '__new__', '__reduce__', '__reduce_ex__', '__repr__', '__rmod__', '__rmul__', '__setattr__', '__sizeof__', '__str__', '__subclasshook__', 'capitalize', 'casefold', 'center', 'count', 'encode', 'endswith', 'expandtabs', 'find', 'format', 'format_map', 'index', 'isalnum', 'isalpha', 'isascii', 'isdecimal', 'isdigit', 'isidentifier', 'islower', 'isnumeric', 'isprintable', 'isspace', 'istitle', 'isupper', 'join', 'ljust', 'lower', 'lstrip', 'maketrans', 'partition', 'removeprefix', 'removesuffix', 'replace', 'rfind', 'rindex', 'rjust', 'rpartition', 'rsplit', 'rstrip', 'split', 'splitlines', 'startswith', 'strip', 'swapcase', 'title', 'translate', 'upper', 'zfill']\n"
     ]
    }
   ],
   "source": [
    "print(dir('collections'))"
   ]
  },
  {
   "cell_type": "code",
   "execution_count": 24,
   "id": "f6563fde",
   "metadata": {},
   "outputs": [
    {
     "ename": "NameError",
     "evalue": "name 'url' is not defined",
     "output_type": "error",
     "traceback": [
      "\u001b[1;31m---------------------------------------------------------------------------\u001b[0m",
      "\u001b[1;31mNameError\u001b[0m                                 Traceback (most recent call last)",
      "Cell \u001b[1;32mIn[24], line 6\u001b[0m\n\u001b[0;32m      4\u001b[0m open_url \u001b[38;5;241m=\u001b[39m webbrowser\u001b[38;5;241m.\u001b[39mopen(url_name)\n\u001b[0;32m      5\u001b[0m \u001b[38;5;66;03m# This opens a new tab in your browser\u001b[39;00m\n\u001b[1;32m----> 6\u001b[0m webbrowser\u001b[38;5;241m.\u001b[39mopen_new_tab(url)\n\u001b[0;32m      7\u001b[0m \u001b[38;5;66;03m# This opens a new browser window\u001b[39;00m\n\u001b[0;32m      8\u001b[0m webbrowser\u001b[38;5;241m.\u001b[39mopen_new(website)\n",
      "\u001b[1;31mNameError\u001b[0m: name 'url' is not defined"
     ]
    }
   ],
   "source": [
    "#Open a Website Using Python\n",
    "import webbrowser\n",
    "url_name = 'http://www.google.com'\n",
    "open_url = webbrowser.open(url_name)\n",
    "# This opens a new tab in your browser\n",
    "webbrowser.open_new_tab(url)\n",
    "# This opens a new browser window\n",
    "webbrowser.open_new(website)\n",
    "print(open_url)"
   ]
  },
  {
   "cell_type": "code",
   "execution_count": 25,
   "id": "e056a279",
   "metadata": {},
   "outputs": [
    {
     "name": "stdout",
     "output_type": "stream",
     "text": [
      "a\n"
     ]
    }
   ],
   "source": [
    "#Most Frequent in a String\n",
    "a = 'malayalam'\n",
    "s_max = max(a,key = a.count)\n",
    "print(s_max)"
   ]
  },
  {
   "cell_type": "code",
   "execution_count": 26,
   "id": "72383b2e",
   "metadata": {},
   "outputs": [
    {
     "name": "stdout",
     "output_type": "stream",
     "text": [
      "[('a', 4)]\n"
     ]
    }
   ],
   "source": [
    "import collections\n",
    "a1 = 'malayalam'\n",
    "s_max1 = collections.Counter(a1).most_common(1)\n",
    "print(s_max1)"
   ]
  },
  {
   "cell_type": "code",
   "execution_count": 27,
   "id": "cc7edbfe",
   "metadata": {},
   "outputs": [
    {
     "name": "stdout",
     "output_type": "stream",
     "text": [
      "The memory size of a list is 88 \n",
      "The memory size of a set is 216 \n",
      "The memory size of a tuple is 72 \n"
     ]
    }
   ],
   "source": [
    "#Memory Size Check\n",
    "import sys\n",
    "a = ['Love', 'Cold', 'Hot', 'Python']\n",
    "b = {'Love', 'Cold', 'Hot', 'Python'}\n",
    "c = ('Love', 'Cold', 'Hot', 'Python')\n",
    "print(f'The memory size of a list is 'f'{sys.getsizeof(a)} ')\n",
    "print(f'The memory size of a set is 'f'{sys.getsizeof(b)} ')\n",
    "print(f'The memory size of a tuple is 'f'{sys.getsizeof(c)} ')"
   ]
  },
  {
   "cell_type": "code",
   "execution_count": 28,
   "id": "e7d66c73",
   "metadata": {},
   "outputs": [
    {
     "name": "stdout",
     "output_type": "stream",
     "text": [
      "dict_keys(['name', 'age', 'student', 'Country'])\n",
      "['Country', 'age', 'name', 'student']\n"
     ]
    }
   ],
   "source": [
    "#Accessing Dictionary Keys\n",
    "dict1 = {'name': 'Ram', 'age': 22,'student':True,'Country': 'India'}\n",
    "print(dict1.keys())\n",
    "print(sorted(dict1))"
   ]
  },
  {
   "cell_type": "code",
   "execution_count": 29,
   "id": "d9131586",
   "metadata": {},
   "outputs": [
    {
     "name": "stdout",
     "output_type": "stream",
     "text": [
      "Object iterable\n",
      "Object not iterable\n"
     ]
    }
   ],
   "source": [
    "#Iterable or Not\n",
    "arr = ['i', 'love', 'working', 'with', 'Python']\n",
    "try:\n",
    "    iter_test = iter(arr)\n",
    "except:\n",
    "    print('Object not iterable')\n",
    "else:\n",
    "    print('Object iterable')\n",
    "    \n",
    "k = 100\n",
    "try:\n",
    "    iter_test_100 = iter(k)\n",
    "except:\n",
    "    print('Object not iterable')\n",
    "else:\n",
    "    print('Object iterable')\n"
   ]
  },
  {
   "cell_type": "code",
   "execution_count": 30,
   "id": "b4a3af08",
   "metadata": {},
   "outputs": [
    {
     "name": "stdout",
     "output_type": "stream",
     "text": [
      "Sorting by First Name:[('Ben', 'Jones'), ('Kelly', 'Isa'), ('Peter', 'Parker')]\n",
      "Sorting by Last Name:[('Kelly', 'Isa'), ('Ben', 'Jones'), ('Peter', 'Parker')]\n",
      "Sorting by First & Last Name:[('Ben', 'Jones'), ('Kelly', 'Isa'), ('Peter', 'Parker')]\n"
     ]
    }
   ],
   "source": [
    "#Sorting a List of Tuples\n",
    "from operator import itemgetter\n",
    "names = [('Ben','Jones'),('Peter','Parker'),('Kelly','Isa')]\n",
    "print(f'Sorting by First Name:{sorted(names,key=itemgetter(0))}')\n",
    "print(f'Sorting by Last Name:{sorted(names,key=itemgetter(1))}')\n",
    "print(f'Sorting by First & Last Name:{sorted(names,key=itemgetter(0,1))}')"
   ]
  },
  {
   "cell_type": "code",
   "execution_count": 31,
   "id": "ad280162",
   "metadata": {},
   "outputs": [
    {
     "name": "stdout",
     "output_type": "stream",
     "text": [
      "Reverse Sort:['Peter', 'Mary', 'Kelly']\n",
      "Sort:['Mary', 'Peter', 'Kelly']\n"
     ]
    }
   ],
   "source": [
    "#Sort List with Sorted & Lambda\n",
    "list1 = ['Mary', 'Peter', 'Kelly']\n",
    "a = lambda x:x[-1]\n",
    "print(f'Reverse Sort:{sorted(list1,key=a)}')\n",
    "b = lambda x:x[1]\n",
    "print(f'Sort:{sorted(list1,key=b)}')"
   ]
  },
  {
   "cell_type": "code",
   "execution_count": 32,
   "id": "5e9fce96",
   "metadata": {},
   "outputs": [
    {
     "name": "stdout",
     "output_type": "stream",
     "text": [
      "[(1, 'Sunday'), (2, 'Monday'), (3, 'Tuesday'), (4, 'Wednesday'), (5, 'Thursday'), (6, 'Friday'), (7, 'Saturday')]\n"
     ]
    }
   ],
   "source": [
    "#A List of Tuples with Enumerate\n",
    "days = [\"Sunday\", \"Monday\", \"Tuesday\", \"Wednesday\",\"Thursday\", \"Friday\", \"Saturday\"]\n",
    "day_tup = list(enumerate(days,start=1))\n",
    "print(day_tup)"
   ]
  },
  {
   "cell_type": "code",
   "execution_count": 33,
   "id": "ff585dcc",
   "metadata": {},
   "outputs": [
    {
     "ename": "AssertionError",
     "evalue": "non-string items in the list",
     "output_type": "error",
     "traceback": [
      "\u001b[1;31m---------------------------------------------------------------------------\u001b[0m",
      "\u001b[1;31mAssertionError\u001b[0m                            Traceback (most recent call last)",
      "Cell \u001b[1;32mIn[33], line 5\u001b[0m\n\u001b[0;32m      3\u001b[0m lower_names\u001b[38;5;241m=\u001b[39m[]\n\u001b[0;32m      4\u001b[0m \u001b[38;5;28;01mfor\u001b[39;00m n \u001b[38;5;129;01min\u001b[39;00m name:\n\u001b[1;32m----> 5\u001b[0m     \u001b[38;5;28;01massert\u001b[39;00m \u001b[38;5;28mtype\u001b[39m(n) \u001b[38;5;241m==\u001b[39m \u001b[38;5;28mstr\u001b[39m,\u001b[38;5;124m'\u001b[39m\u001b[38;5;124mnon-string items in the list\u001b[39m\u001b[38;5;124m'\u001b[39m\n\u001b[0;32m      6\u001b[0m     \u001b[38;5;28;01mif\u001b[39;00m n\u001b[38;5;241m.\u001b[39mislower():\n\u001b[0;32m      7\u001b[0m         lower_names\u001b[38;5;241m.\u001b[39mappend(n)\n",
      "\u001b[1;31mAssertionError\u001b[0m: non-string items in the list"
     ]
    }
   ],
   "source": [
    "#Assertion\n",
    "name = [\"Jon\",\"kelly\", \"kess\", \"PETR\", 4]\n",
    "lower_names=[]\n",
    "for n in name:\n",
    "    assert type(n) == str,'non-string items in the list'\n",
    "    if n.islower():\n",
    "        lower_names.append(n)\n",
    "        \n",
    "print(lower_names)"
   ]
  },
  {
   "cell_type": "code",
   "execution_count": 34,
   "id": "1db4a63b",
   "metadata": {},
   "outputs": [
    {
     "name": "stdout",
     "output_type": "stream",
     "text": [
      "\u001b[31m Warning: \u001b[32m Love Don't live here anymore\n"
     ]
    }
   ],
   "source": [
    "#Print Colored Texts\n",
    "class Colors():\n",
    "    Black = '\\033[30m'\n",
    "    Green = '\\033[32m'\n",
    "    Blue = '\\033[34m'\n",
    "    Magenta = '\\033[35m'\n",
    "    Red = '\\033[31m'\n",
    "    Cyan = '\\033[36m'\n",
    "    White = '\\033[37m'\n",
    "    Yellow = '\\033[33m'\n",
    "print(f'{Colors.Red} Warning: {Colors.Green} 'f'Love Don\\'t live here anymore')"
   ]
  },
  {
   "cell_type": "code",
   "execution_count": 35,
   "id": "72a4b05a",
   "metadata": {},
   "outputs": [
    {
     "name": "stdout",
     "output_type": "stream",
     "text": [
      "index of s is :4\n"
     ]
    }
   ],
   "source": [
    "#Find Index Using Enumerate\n",
    "str1 = 'girish'\n",
    "for index,value in enumerate(str1):\n",
    "    if value == 's':\n",
    "        print(f'index of s is :{index}')"
   ]
  },
  {
   "cell_type": "code",
   "execution_count": 36,
   "id": "500933c4",
   "metadata": {},
   "outputs": [
    {
     "name": "stdout",
     "output_type": "stream",
     "text": [
      "malayalam\n",
      "String is a Paliandrom\n"
     ]
    }
   ],
   "source": [
    "#reverse string \n",
    "str100 = 'malayalam'\n",
    "str200 = str100[::-1]\n",
    "print(str200)\n",
    "paliandrome = str100 == str100[::-1]\n",
    "print('String is a Paliandrom') if paliandrome == True else print('String is NOT a Paliandrom')"
   ]
  },
  {
   "cell_type": "code",
   "execution_count": 37,
   "id": "dcbe38d3",
   "metadata": {},
   "outputs": [
    {
     "data": {
      "text/html": [
       "<div>\n",
       "<style scoped>\n",
       "    .dataframe tbody tr th:only-of-type {\n",
       "        vertical-align: middle;\n",
       "    }\n",
       "\n",
       "    .dataframe tbody tr th {\n",
       "        vertical-align: top;\n",
       "    }\n",
       "\n",
       "    .dataframe thead th {\n",
       "        text-align: right;\n",
       "    }\n",
       "</style>\n",
       "<table border=\"1\" class=\"dataframe\">\n",
       "  <thead>\n",
       "    <tr style=\"text-align: right;\">\n",
       "      <th></th>\n",
       "      <th>Open</th>\n",
       "      <th>High</th>\n",
       "      <th>Low</th>\n",
       "      <th>Close</th>\n",
       "      <th>Volume</th>\n",
       "      <th>Dividends</th>\n",
       "      <th>Stock Splits</th>\n",
       "    </tr>\n",
       "    <tr>\n",
       "      <th>Date</th>\n",
       "      <th></th>\n",
       "      <th></th>\n",
       "      <th></th>\n",
       "      <th></th>\n",
       "      <th></th>\n",
       "      <th></th>\n",
       "      <th></th>\n",
       "    </tr>\n",
       "  </thead>\n",
       "  <tbody>\n",
       "    <tr>\n",
       "      <th>2024-02-16 00:00:00-05:00</th>\n",
       "      <td>113.019997</td>\n",
       "      <td>113.110001</td>\n",
       "      <td>111.250000</td>\n",
       "      <td>111.309998</td>\n",
       "      <td>8931100</td>\n",
       "      <td>0.0</td>\n",
       "      <td>0.0</td>\n",
       "    </tr>\n",
       "    <tr>\n",
       "      <th>2024-02-20 00:00:00-05:00</th>\n",
       "      <td>110.540001</td>\n",
       "      <td>110.769997</td>\n",
       "      <td>107.680000</td>\n",
       "      <td>108.449997</td>\n",
       "      <td>10975600</td>\n",
       "      <td>0.0</td>\n",
       "      <td>0.0</td>\n",
       "    </tr>\n",
       "    <tr>\n",
       "      <th>2024-02-21 00:00:00-05:00</th>\n",
       "      <td>106.760002</td>\n",
       "      <td>108.379997</td>\n",
       "      <td>106.510002</td>\n",
       "      <td>108.160004</td>\n",
       "      <td>7867600</td>\n",
       "      <td>0.0</td>\n",
       "      <td>0.0</td>\n",
       "    </tr>\n",
       "    <tr>\n",
       "      <th>2024-02-22 00:00:00-05:00</th>\n",
       "      <td>111.489998</td>\n",
       "      <td>111.889999</td>\n",
       "      <td>109.660004</td>\n",
       "      <td>111.010002</td>\n",
       "      <td>8957800</td>\n",
       "      <td>0.0</td>\n",
       "      <td>0.0</td>\n",
       "    </tr>\n",
       "    <tr>\n",
       "      <th>2024-02-23 00:00:00-05:00</th>\n",
       "      <td>112.000000</td>\n",
       "      <td>113.370003</td>\n",
       "      <td>111.709999</td>\n",
       "      <td>111.949997</td>\n",
       "      <td>7504000</td>\n",
       "      <td>0.0</td>\n",
       "      <td>0.0</td>\n",
       "    </tr>\n",
       "  </tbody>\n",
       "</table>\n",
       "</div>"
      ],
      "text/plain": [
       "                                 Open        High         Low       Close  \\\n",
       "Date                                                                        \n",
       "2024-02-16 00:00:00-05:00  113.019997  113.110001  111.250000  111.309998   \n",
       "2024-02-20 00:00:00-05:00  110.540001  110.769997  107.680000  108.449997   \n",
       "2024-02-21 00:00:00-05:00  106.760002  108.379997  106.510002  108.160004   \n",
       "2024-02-22 00:00:00-05:00  111.489998  111.889999  109.660004  111.010002   \n",
       "2024-02-23 00:00:00-05:00  112.000000  113.370003  111.709999  111.949997   \n",
       "\n",
       "                             Volume  Dividends  Stock Splits  \n",
       "Date                                                          \n",
       "2024-02-16 00:00:00-05:00   8931100        0.0           0.0  \n",
       "2024-02-20 00:00:00-05:00  10975600        0.0           0.0  \n",
       "2024-02-21 00:00:00-05:00   7867600        0.0           0.0  \n",
       "2024-02-22 00:00:00-05:00   8957800        0.0           0.0  \n",
       "2024-02-23 00:00:00-05:00   7504000        0.0           0.0  "
      ]
     },
     "execution_count": 37,
     "metadata": {},
     "output_type": "execute_result"
    }
   ],
   "source": [
    "import yfinance as yf\n",
    "from datetime import datetime\n",
    "orcl = yf.Ticker('ORCL')\n",
    "end_date = datetime.now().strftime('%Y-%m-%d')\n",
    "orcl_hist = orcl.history(start='2023-01-01',end=end_date)\n",
    "orcl_hist.tail(5)"
   ]
  },
  {
   "cell_type": "code",
   "execution_count": 38,
   "id": "af40e04f",
   "metadata": {},
   "outputs": [
    {
     "name": "stdout",
     "output_type": "stream",
     "text": [
      "String is empty\n",
      "String is NOT empty\n"
     ]
    }
   ],
   "source": [
    "#Checking if a String is Empty\n",
    "str2 = ''\n",
    "print('String is empty') if not str2 else print('String is NOT empty')\n",
    "\n",
    "str3 = 'bangalore'\n",
    "print('String is empty') if not str3 else print('String is NOT empty')"
   ]
  },
  {
   "cell_type": "code",
   "execution_count": 40,
   "id": "294a0602",
   "metadata": {},
   "outputs": [
    {
     "name": "stdout",
     "output_type": "stream",
     "text": [
      "[1, 2, 3, 4, 5, 6]\n"
     ]
    }
   ],
   "source": [
    "#Flatten Nested List\n",
    "lst = [[1,2,3],[4,5,6]]\n",
    "n_lst = sum(lst,[])\n",
    "print(n_lst)"
   ]
  },
  {
   "cell_type": "code",
   "execution_count": 41,
   "id": "90dd8ddf",
   "metadata": {},
   "outputs": [
    {
     "name": "stdout",
     "output_type": "stream",
     "text": [
      "[1, 2, 3, 4, 5, 6]\n"
     ]
    }
   ],
   "source": [
    "#Using reduce function\n",
    "from functools import reduce\n",
    "lst1 = [[1,2,3],[4,5,6]]\n",
    "new_lst1 = reduce(lambda x,y:x+y,lst1)\n",
    "print(new_lst1)"
   ]
  },
  {
   "cell_type": "code",
   "execution_count": 42,
   "id": "e94e5aec",
   "metadata": {},
   "outputs": [
    {
     "ename": "FileNotFoundError",
     "evalue": "[WinError 2] The system cannot find the file specified: 'test_file.txt'",
     "output_type": "error",
     "traceback": [
      "\u001b[1;31m---------------------------------------------------------------------------\u001b[0m",
      "\u001b[1;31mFileNotFoundError\u001b[0m                         Traceback (most recent call last)",
      "Cell \u001b[1;32mIn[42], line 3\u001b[0m\n\u001b[0;32m      1\u001b[0m \u001b[38;5;66;03m#Checking if a File Exists\u001b[39;00m\n\u001b[0;32m      2\u001b[0m \u001b[38;5;28;01mimport\u001b[39;00m \u001b[38;5;21;01mos\u001b[39;00m\n\u001b[1;32m----> 3\u001b[0m os\u001b[38;5;241m.\u001b[39mremove(\u001b[38;5;124m'\u001b[39m\u001b[38;5;124mtest_file.txt\u001b[39m\u001b[38;5;124m'\u001b[39m)\n",
      "\u001b[1;31mFileNotFoundError\u001b[0m: [WinError 2] The system cannot find the file specified: 'test_file.txt'"
     ]
    }
   ],
   "source": [
    "#Checking if a File Exists\n",
    "import os\n",
    "os.remove('test_file.txt')"
   ]
  },
  {
   "cell_type": "code",
   "execution_count": 43,
   "id": "809d726e",
   "metadata": {},
   "outputs": [
    {
     "name": "stdout",
     "output_type": "stream",
     "text": [
      "File does not exists\n"
     ]
    }
   ],
   "source": [
    "import os.path\n",
    "file = os.path.exists('test_file.txt')\n",
    "if file:\n",
    "    os.remove('test_file.txt')\n",
    "else:\n",
    "    print('File does not exists')"
   ]
  },
  {
   "cell_type": "code",
   "execution_count": 44,
   "id": "db965692",
   "metadata": {},
   "outputs": [
    {
     "name": "stdout",
     "output_type": "stream",
     "text": [
      "{'war', 'peace', 'love', 'hate'}\n",
      "{40, 10, 50, 30}\n"
     ]
    }
   ],
   "source": [
    "#Set Comprehension\n",
    "list1 = ['LOVE', 'HATE', 'WAR', 'PEACE', 'PEACE']\n",
    "set1 = {word.lower() for word in list1}\n",
    "print(set1)\n",
    "\n",
    "arr = [10, 23, 30, 30, 40, 45, 50]\n",
    "new_set = {num for num in arr if num % 2 == 0 }\n",
    "print(new_set)"
   ]
  },
  {
   "cell_type": "code",
   "execution_count": 45,
   "id": "76f8945e",
   "metadata": {},
   "outputs": [
    {
     "name": "stdout",
     "output_type": "stream",
     "text": [
      "Average : 20.0\n",
      "Average : 112.0\n"
     ]
    }
   ],
   "source": [
    "#Python *args and **Kwargs\n",
    "\n",
    "def test_args(*args):\n",
    "    avg =  sum(args)/len(args)\n",
    "    return f'Average : {avg}'\n",
    "\n",
    "print(test_args(10,20,30))\n",
    "print(test_args(10,20,30,100,400))"
   ]
  },
  {
   "cell_type": "code",
   "execution_count": 46,
   "id": "fbc32ceb",
   "metadata": {},
   "outputs": [
    {
     "name": "stdout",
     "output_type": "stream",
     "text": [
      "['moses', 'linda']\n",
      "['moses', 'linda']\n"
     ]
    }
   ],
   "source": [
    "#The Filter Function\n",
    "names = ['Derick', 'John', 'moses', 'linda']\n",
    "op1 = list(filter(lambda x:x.islower(),names))\n",
    "print(op1)\n",
    "\n",
    "def fn_lower(n: str):\n",
    "    return n.islower()\n",
    "lower1 = list(filter(fn_lower,names))\n",
    "print(lower1)"
   ]
  },
  {
   "cell_type": "code",
   "execution_count": 47,
   "id": "c232252f",
   "metadata": {},
   "outputs": [
    {
     "name": "stdout",
     "output_type": "stream",
     "text": [
      "{'Grade': 70, 'Weight': 45, 'Width': 89}\n"
     ]
    }
   ],
   "source": [
    "#Dictionary Comprehension\n",
    "dict1 = {'Grade': 70, 'Weight': 45, 'Width': 89}\n",
    "d2 = {k:v for (k,v) in dict1.items()}\n",
    "print(d2)"
   ]
  },
  {
   "cell_type": "code",
   "execution_count": 48,
   "id": "d28c2d8d",
   "metadata": {},
   "outputs": [
    {
     "data": {
      "text/html": [
       "<div>\n",
       "<style scoped>\n",
       "    .dataframe tbody tr th:only-of-type {\n",
       "        vertical-align: middle;\n",
       "    }\n",
       "\n",
       "    .dataframe tbody tr th {\n",
       "        vertical-align: top;\n",
       "    }\n",
       "\n",
       "    .dataframe thead th {\n",
       "        text-align: right;\n",
       "    }\n",
       "</style>\n",
       "<table border=\"1\" class=\"dataframe\">\n",
       "  <thead>\n",
       "    <tr style=\"text-align: right;\">\n",
       "      <th></th>\n",
       "      <th>Brands</th>\n",
       "      <th>Models</th>\n",
       "    </tr>\n",
       "  </thead>\n",
       "  <tbody>\n",
       "    <tr>\n",
       "      <th>1</th>\n",
       "      <td>Tesla</td>\n",
       "      <td>X</td>\n",
       "    </tr>\n",
       "    <tr>\n",
       "      <th>2</th>\n",
       "      <td>Ford</td>\n",
       "      <td>Focus</td>\n",
       "    </tr>\n",
       "    <tr>\n",
       "      <th>3</th>\n",
       "      <td>Fiat</td>\n",
       "      <td>Doblo</td>\n",
       "    </tr>\n",
       "  </tbody>\n",
       "</table>\n",
       "</div>"
      ],
      "text/plain": [
       "  Brands Models\n",
       "1  Tesla      X\n",
       "2   Ford  Focus\n",
       "3   Fiat  Doblo"
      ]
     },
     "execution_count": 48,
     "metadata": {},
     "output_type": "execute_result"
    }
   ],
   "source": [
    "list1 = ['Tesla', 'Ford', 'Fiat']\n",
    "models = ['X', 'Focus', 'Doblo']\n",
    "df = pd.DataFrame(list(zip(list1,models)),index=[1,2,3],columns=['Brands','Models'])\n",
    "df"
   ]
  },
  {
   "cell_type": "code",
   "execution_count": 49,
   "id": "81de89f5",
   "metadata": {},
   "outputs": [
    {
     "name": "stdout",
     "output_type": "stream",
     "text": [
      "John Kelly\n",
      "Moses Nkosi\n",
      "Joseph Marley\n",
      "\n"
     ]
    }
   ],
   "source": [
    "#Writing to File\n",
    "names = ['John Kelly', 'Moses Nkosi', 'Joseph Marley']\n",
    "\n",
    "with open('names.csv','w') as file:\n",
    "    for names in names:\n",
    "        file.write(names)\n",
    "        file.write('\\n')\n",
    "        \n",
    "with open('names.csv','r') as file:\n",
    "    print(file.read())    "
   ]
  },
  {
   "cell_type": "code",
   "execution_count": 50,
   "id": "c8abb619",
   "metadata": {},
   "outputs": [
    {
     "name": "stdout",
     "output_type": "stream",
     "text": [
      "The Zen of Python, by Tim Peters\n",
      "\n",
      "Beautiful is better than ugly.\n",
      "Explicit is better than implicit.\n",
      "Simple is better than complex.\n",
      "Complex is better than complicated.\n",
      "Flat is better than nested.\n",
      "Sparse is better than dense.\n",
      "Readability counts.\n",
      "Special cases aren't special enough to break the rules.\n",
      "Although practicality beats purity.\n",
      "Errors should never pass silently.\n",
      "Unless explicitly silenced.\n",
      "In the face of ambiguity, refuse the temptation to guess.\n",
      "There should be one-- and preferably only one --obvious way to do it.\n",
      "Although that way may not be obvious at first unless you're Dutch.\n",
      "Now is better than never.\n",
      "Although never is often better than *right* now.\n",
      "If the implementation is hard to explain, it's a bad idea.\n",
      "If the implementation is easy to explain, it may be a good idea.\n",
      "Namespaces are one honking great idea -- let's do more of those!\n",
      "<module 'this' from 'C:\\\\anaconda\\\\anaconda3\\\\Lib\\\\this.py'>\n"
     ]
    }
   ],
   "source": [
    "import this\n",
    "print(this)"
   ]
  },
  {
   "cell_type": "code",
   "execution_count": 51,
   "id": "d3d5e1ba",
   "metadata": {},
   "outputs": [
    {
     "name": "stdout",
     "output_type": "stream",
     "text": [
      "{8, 4, 6}\n"
     ]
    }
   ],
   "source": [
    "#Difference Between Two Lists\n",
    "a = [9, 3, 6, 7, 8, 4]\n",
    "b = [9, 3, 7, 5, 2, 1]\n",
    "print(set(a).difference(set(b)))"
   ]
  },
  {
   "cell_type": "code",
   "execution_count": 52,
   "id": "0f8b3aab",
   "metadata": {},
   "outputs": [
    {
     "name": "stdout",
     "output_type": "stream",
     "text": [
      "[{'school': 'cat', 'city': 'Cairo'}, {'school': 'yale', 'city': 'Beijing'}]\n",
      "[{'school': 'yale', 'city': 'Beijing'}, {'school': 'cat', 'city': 'Cairo'}]\n"
     ]
    }
   ],
   "source": [
    "#Sorting a List of Dictionaries\n",
    "from operator import itemgetter\n",
    "d = [{\"school\":\"yale\", \"city\": \"Beijing\"},{\"school\":\"cat\", \"city\": \"Cairo\"}]\n",
    "sorted_list = sorted(d,key=itemgetter('school','city'))\n",
    "print(sorted_list)\n",
    "reverse_sorted_list = sorted(d,key=itemgetter('school','city'),reverse=True)\n",
    "print(reverse_sorted_list)"
   ]
  },
  {
   "cell_type": "code",
   "execution_count": 53,
   "id": "8c8130b6",
   "metadata": {},
   "outputs": [
    {
     "name": "stdout",
     "output_type": "stream",
     "text": [
      "jake\n",
      "Mpho\n",
      "Peter\n"
     ]
    }
   ],
   "source": [
    "#The _iter_() Function\n",
    "names = ['jake', \"Mpho\", 'Peter']\n",
    "iter_objs = iter(names)\n",
    "name1 = next(iter_objs)\n",
    "print(name1)\n",
    "name2 = next(iter_objs)\n",
    "print(name2)\n",
    "name3 = next(iter_objs)\n",
    "print(name3)"
   ]
  },
  {
   "cell_type": "code",
   "execution_count": 54,
   "id": "f74998e4",
   "metadata": {},
   "outputs": [
    {
     "name": "stdout",
     "output_type": "stream",
     "text": [
      "{'name': 'Yoko', 'age': 60, 'country': 'Angola'}\n",
      "[('name', 'Yoko'), ('age', 60), ('country', 'Angola')]\n"
     ]
    }
   ],
   "source": [
    "#Two Lists into a Dict\n",
    "list1 = ['name', 'age', 'country']\n",
    "list2 = ['Yoko', 60, 'Angola']\n",
    "dict1 = dict(zip(list1,list2))\n",
    "print(dict1)\n",
    "print(list(zip(list1,list2)))"
   ]
  },
  {
   "cell_type": "code",
   "execution_count": 55,
   "id": "e7a9fdff",
   "metadata": {},
   "outputs": [
    {
     "name": "stdout",
     "output_type": "stream",
     "text": [
      "[('A', 'B', 'C'), ('A', 'C', 'B'), ('B', 'A', 'C'), ('B', 'C', 'A'), ('C', 'A', 'B'), ('C', 'B', 'A')]\n"
     ]
    }
   ],
   "source": [
    "#Finding Permutations of a string\n",
    "from itertools import permutations\n",
    "def get_perms(s:str):\n",
    "        arr = []\n",
    "        for i in permutations(s):\n",
    "            arr.append(i)\n",
    "        return arr;\n",
    "print(get_perms('ABC'))\n",
    "            "
   ]
  },
  {
   "cell_type": "code",
   "execution_count": 56,
   "id": "f950c108",
   "metadata": {},
   "outputs": [
    {
     "name": "stdout",
     "output_type": "stream",
     "text": [
      "John\n",
      "['Mary', 'Lisa’, ‘Rose']\n"
     ]
    }
   ],
   "source": [
    "#Unpacking a List\n",
    "names = [ 'John', 'Mary', 'Lisa’, ‘Rose']\n",
    "boy, *girls = names\n",
    "print(boy)\n",
    "print(girls)"
   ]
  },
  {
   "cell_type": "code",
   "execution_count": 57,
   "id": "0e5f33a0",
   "metadata": {},
   "outputs": [
    {
     "name": "stdout",
     "output_type": "stream",
     "text": [
      "C:\\Users\\GJAHAGIR\n"
     ]
    }
   ],
   "source": [
    "#File Location\n",
    "import os\n",
    "dir_path = os.getcwd()\n",
    "print(dir_path)"
   ]
  },
  {
   "cell_type": "code",
   "execution_count": 58,
   "id": "807795b6",
   "metadata": {},
   "outputs": [
    {
     "name": "stdout",
     "output_type": "stream",
     "text": [
      "deque([10, 20, 30, 40])\n",
      "deque([10, 20, 30])\n"
     ]
    }
   ],
   "source": [
    "#Python Deque\n",
    "from collections import deque\n",
    "a = deque([20,30])\n",
    "a.appendleft(10)\n",
    "a.append(40)\n",
    "print(a)\n",
    "a.pop()\n",
    "print(a)"
   ]
  },
  {
   "cell_type": "code",
   "execution_count": 59,
   "id": "5b121ec9",
   "metadata": {},
   "outputs": [
    {
     "name": "stdout",
     "output_type": "stream",
     "text": [
      "ChainMap({'name': 'girish', 'job': 'engineer'}, {'name': 'satish', 'job': 'farmer'}, {'name': 'anagha', 'job': 'engineer student'})\n",
      "['name', 'job']\n",
      "['girish', 'engineer']\n"
     ]
    }
   ],
   "source": [
    "#Python ChainMap\n",
    "from collections import ChainMap\n",
    "d1 = {'name':'girish','job':'engineer'}\n",
    "d2 = {'name':'satish','job':'farmer'}\n",
    "d3 = {'name':'anagha','job':'engineer student'}\n",
    "final_d = ChainMap(d1,d2,d3)\n",
    "print(final_d)\n",
    "print(list((final_d.keys())))\n",
    "print(list((final_d.values())))"
   ]
  },
  {
   "cell_type": "code",
   "execution_count": 60,
   "id": "ba0a8591",
   "metadata": {},
   "outputs": [
    {
     "name": "stderr",
     "output_type": "stream",
     "text": [
      "100%|██████████| 100000/100000 [00:00<00:00, 2570716.55it/s]\n"
     ]
    }
   ],
   "source": [
    "#Python progress bar\n",
    "from tqdm import tqdm\n",
    "import time\n",
    "for i in tqdm(range(100000)):\n",
    "    pass\n",
    "time.sleep(0.001)"
   ]
  },
  {
   "cell_type": "code",
   "execution_count": 61,
   "id": "deb336c0",
   "metadata": {},
   "outputs": [
    {
     "name": "stderr",
     "output_type": "stream",
     "text": [
      "progress: 100%|██████████| 100000/100000 [02:02<00:00, 817.48it/s]\n"
     ]
    }
   ],
   "source": [
    "for i in tqdm(range(100000), desc='progress'):\n",
    "    pass\n",
    "    time.sleep(0.001)"
   ]
  },
  {
   "cell_type": "code",
   "execution_count": 65,
   "id": "29c8ba10",
   "metadata": {},
   "outputs": [
    {
     "name": "stdout",
     "output_type": "stream",
     "text": [
      "(1, 2, 3)\n",
      "1\n",
      "2\n",
      "3\n"
     ]
    }
   ],
   "source": [
    "#Return Multiple Function Values\n",
    "def vals():\n",
    "    return 1,2,3\n",
    "print(vals())  #returns a tuple\n",
    "x,y,z = vals()\n",
    "print(x)\n",
    "print(y)\n",
    "print(z)"
   ]
  },
  {
   "cell_type": "code",
   "execution_count": 66,
   "id": "4c3ba470",
   "metadata": {},
   "outputs": [
    {
     "name": "stdout",
     "output_type": "stream",
     "text": [
      "['I', 'LOVE', 'PYTHON', 'PROGRAMMING']\n",
      "I love Python\n"
     ]
    }
   ],
   "source": [
    "s = 'I LOVE PYTHON PROGRAMMING'\n",
    "str1 = list(map(str,s.split()))\n",
    "print(str1)\n",
    "\n",
    "list1 = ['I','love','Python']\n",
    "str2 = ' '.join(map(str,list1 ))\n",
    "print(str2)"
   ]
  },
  {
   "cell_type": "code",
   "execution_count": 67,
   "id": "288c239c",
   "metadata": {},
   "outputs": [
    {
     "name": "stdout",
     "output_type": "stream",
     "text": [
      "George Luke\n",
      "Keith Sweat\n",
      "Art Funnel\n"
     ]
    }
   ],
   "source": [
    "#Loop Over Multiple Sequences\n",
    "first_names = ['George','Keith', 'Art']\n",
    "last_names = ['Luke', 'Sweat','Funnel']\n",
    "for f, l in zip(first_names,last_names):\n",
    "    print(f,l)"
   ]
  },
  {
   "cell_type": "code",
   "execution_count": 68,
   "id": "e70b08b0",
   "metadata": {},
   "outputs": [
    {
     "name": "stdout",
     "output_type": "stream",
     "text": [
      "[1, 2, 3, [4, 5, 6]]\n",
      "[10, 20, 30, 40, 50, 60]\n"
     ]
    }
   ],
   "source": [
    "numbers1 = [1, 2, 3]\n",
    "numbers2 = [4, 5, 6]\n",
    "numbers1.append(numbers2)\n",
    "print(numbers1)\n",
    "numbers3 = [10, 20, 30]\n",
    "numbers4 = [40, 50, 60]\n",
    "numbers3.extend(numbers4)\n",
    "print(numbers3)"
   ]
  },
  {
   "cell_type": "code",
   "execution_count": 69,
   "id": "ebc68d7a",
   "metadata": {},
   "outputs": [
    {
     "name": "stdout",
     "output_type": "stream",
     "text": [
      "362880\n"
     ]
    }
   ],
   "source": [
    "from functools import reduce\n",
    "num = 9\n",
    "fout = reduce(lambda a,b : a*b,range(1,num+1))\n",
    "print(fout)"
   ]
  },
  {
   "cell_type": "code",
   "execution_count": 72,
   "id": "a9d12949",
   "metadata": {},
   "outputs": [
    {
     "name": "stdout",
     "output_type": "stream",
     "text": [
      "False\n"
     ]
    }
   ],
   "source": [
    "def check_list(arr):\n",
    "    return all(arr[0] ==  arr[i] for i in arr)\n",
    "print(check_list([1,2,3]))"
   ]
  },
  {
   "cell_type": "code",
   "execution_count": 75,
   "id": "36f36c6d",
   "metadata": {},
   "outputs": [
    {
     "name": "stdout",
     "output_type": "stream",
     "text": [
      "True\n",
      "True\n",
      "False\n"
     ]
    }
   ],
   "source": [
    "def check_monotonic(arr):\n",
    "    if all(arr[i] >= arr[i+1] for i in range(len(arr)-1)):\n",
    "        return True\n",
    "    if all(arr[i] <= arr[i+1] for i in range(len(arr)-1)):\n",
    "        return True\n",
    "    else:\n",
    "        return False\n",
    "print(check_monotonic([2,2,4,5,6]))\n",
    "print(check_monotonic([10,9,8,7]))\n",
    "print(check_monotonic([10,1,23,67,3]))"
   ]
  },
  {
   "cell_type": "code",
   "execution_count": 77,
   "id": "297ab3f7",
   "metadata": {},
   "outputs": [
    {
     "name": "stdout",
     "output_type": "stream",
     "text": [
      "1\n",
      "2\n",
      "5\n",
      "10\n"
     ]
    }
   ],
   "source": [
    "#Find Factors of a Number\n",
    "def num_factors(n):\n",
    "    for i in range(1,n+1):\n",
    "        if n%i == 0:\n",
    "            print(i)\n",
    "num_factors(10)"
   ]
  }
 ],
 "metadata": {
  "kernelspec": {
   "display_name": "Python 3 (ipykernel)",
   "language": "python",
   "name": "python3"
  },
  "language_info": {
   "codemirror_mode": {
    "name": "ipython",
    "version": 3
   },
   "file_extension": ".py",
   "mimetype": "text/x-python",
   "name": "python",
   "nbconvert_exporter": "python",
   "pygments_lexer": "ipython3",
   "version": "3.11.5"
  }
 },
 "nbformat": 4,
 "nbformat_minor": 5
}
